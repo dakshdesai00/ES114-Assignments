{
 "cells": [
  {
   "cell_type": "markdown",
   "metadata": {
    "id": "Tp3f8KqS6EkU"
   },
   "source": [
    "# Use torch.distributions in all the below questions"
   ]
  },
  {
   "cell_type": "markdown",
   "metadata": {
    "id": "wnLgesrdCkNy"
   },
   "source": [
    "## Imports"
   ]
  },
  {
   "cell_type": "code",
   "execution_count": 204,
   "metadata": {
    "id": "SdH-jjtFCpwP"
   },
   "outputs": [],
   "source": [
    "import torch\n",
    "import torch.distributions as dist\n",
    "import matplotlib.pyplot as plt\n",
    "import pandas as pd\n",
    "import numpy as np\n",
    "import random\n",
    "from collections import Counter\n",
    "import ipywidgets as widgets\n",
    "from ipywidgets import interact"
   ]
  },
  {
   "cell_type": "markdown",
   "metadata": {
    "id": "w-ns1yr79Egr"
   },
   "source": [
    "# 1. **Random Variables**"
   ]
  },
  {
   "cell_type": "markdown",
   "metadata": {
    "id": "D79sOX3_-CQI"
   },
   "source": [
    "#### Q1. (**Mandatory**)\n",
    "Write a Python function that simulates rolling two six-sided dice and returns their sum. Use this function to perform 10,000 simulations. Calculate and print:\n",
    "\n",
    "a) The experimental probability of rolling a sum of 7 <br/>\n",
    "b) The experimental probability of rolling a sum of 2 or 12<br/>\n",
    "\n",
    "Compare these experimental probabilities with the theoretical probabilities. What conclusions can you draw about the accuracy of the simulation?"
   ]
  },
  {
   "cell_type": "code",
   "execution_count": 207,
   "metadata": {},
   "outputs": [
    {
     "name": "stdout",
     "output_type": "stream",
     "text": [
      "Experimental probability of rolling a sum of 7: 0.1698\n",
      "Theoretical probability of rolling a sum of 7: 0.1667\n",
      "Experimental probability of rolling a sum of 2 or 12: 0.0553\n",
      "Theoretical probability of rolling a sum of 2 or 12: 0.0556\n"
     ]
    },
    {
     "data": {
      "image/png": "[encoded data removed]",
      "text/plain": [
       "<Figure size 1000x600 with 1 Axes>"
      ]
     },
     "metadata": {},
     "output_type": "display_data"
    },
    {
     "name": "stdout",
     "output_type": "stream",
     "text": [
      "\n",
      "Conclusions:\n",
      "The experimental probabilities are close to the theoretical probabilities, indicating that the simulation is accurate.\n"
     ]
    }
   ],
   "source": [
    "\n",
    "def roll_two_dice(num_simulations):\n",
    "    die = dist.Categorical(probs=torch.tensor([1/6]*6))\n",
    "    rolls1 = die.sample((num_simulations,)) + 1\n",
    "    rolls2 = die.sample((num_simulations,)) + 1\n",
    "    sum = rolls1 + rolls2  \n",
    "    return sum\n",
    "\n",
    "def calculate_probabilities(sums):\n",
    "    total_rolls = len(sums)\n",
    "    sum_of_7 = (sums == 7).sum().item()\n",
    "    sum_of_2_or_12 = ((sums == 2) | (sums == 12)).sum().item()\n",
    "    prob_sum_of_7 = sum_of_7 / total_rolls\n",
    "    prob_sum_of_2_or_12 = sum_of_2_or_12 / total_rolls\n",
    "    return prob_sum_of_7, prob_sum_of_2_or_12\n",
    "\n",
    "num_simulations = 10000\n",
    "sums = roll_two_dice(num_simulations)\n",
    "\n",
    "prob_sum_of_7, prob_sum_of_2_or_12 = calculate_probabilities(sums)\n",
    "\n",
    "\n",
    "theoretical_prob_sum_of_7 = 6 / 36  # There are 6 ways to roll a 7 out of 36 possible outcomes\n",
    "theoretical_prob_sum_of_2_or_12 = 1 / 36 + 1 / 36  # There is 1 way to roll a 2 and 1 way to roll a 12 out of 36 possible outcomes\n",
    "\n",
    "\n",
    "print(f\"Experimental probability of rolling a sum of 7: {prob_sum_of_7:.4f}\")\n",
    "print(f\"Theoretical probability of rolling a sum of 7: {theoretical_prob_sum_of_7:.4f}\")\n",
    "print(f\"Experimental probability of rolling a sum of 2 or 12: {prob_sum_of_2_or_12:.4f}\")\n",
    "print(f\"Theoretical probability of rolling a sum of 2 or 12: {theoretical_prob_sum_of_2_or_12:.4f}\")\n",
    "\n",
    "\n",
    "labels = ['Sum of 7', 'Sum of 2 or 12']\n",
    "experimental_probs = [prob_sum_of_7, prob_sum_of_2_or_12]\n",
    "theoretical_probs = [theoretical_prob_sum_of_7, theoretical_prob_sum_of_2_or_12]\n",
    "\n",
    "x = range(len(labels))\n",
    "\n",
    "fig, ax = plt.subplots(figsize=(10, 6))\n",
    "ax.bar(x, experimental_probs, width=0.4, label='Experimental', align='center')\n",
    "ax.bar(x, theoretical_probs, width=0.4, label='Theoretical', align='edge')\n",
    "\n",
    "ax.set_xlabel('Event')\n",
    "ax.set_ylabel('Probability')\n",
    "ax.set_title('Experimental vs Theoretical Probabilities')\n",
    "ax.set_xticks(x)\n",
    "ax.set_xticklabels(labels)\n",
    "ax.legend()\n",
    "\n",
    "plt.show()\n",
    "\n",
    "\n",
    "print(\"\\nConclusions:\")\n",
    "print(\"The experimental probabilities are close to the theoretical probabilities, indicating that the simulation is accurate.\")"
   ]
  },
  {
   "cell_type": "markdown",
   "metadata": {
    "id": "lFX2mG1m9I2h"
   },
   "source": [
    "#### Q2. (Optional)\n",
    "Write a function coin_toss(n) that simulates flipping a coin n times, returning a list of 'H' (Heads) and 'T' (Tails). Then, write a function count_heads(flips) that takes the list of flips and returns the number of heads (this is your random variable, X). Finally, simulate 10 coin tosses and print the outcome of the coin tosses and the number of heads.\n"
   ]
  },
  {
   "cell_type": "code",
   "execution_count": 209,
   "metadata": {},
   "outputs": [
    {
     "name": "stdout",
     "output_type": "stream",
     "text": [
      "Out of 10 coin tosses, 3 were heads.\n"
     ]
    }
   ],
   "source": [
    "def coin_toss(n):\n",
    "    coin = dist.Bernoulli(0.5)\n",
    "    n_coin_toss = coin.sample((n,))\n",
    "    return n_coin_toss\n",
    "    \n",
    "def count_heads(flips):\n",
    "    number_of_heads = (flips == 1).sum().item()\n",
    "    return number_of_heads\n",
    "\n",
    "flips = coin_toss(10)\n",
    "number_of_heads = count_heads(flips)\n",
    "\n",
    "print(\"Out of 10 coin tosses,\",number_of_heads,\"were heads.\")"
   ]
  },
  {
   "cell_type": "markdown",
   "metadata": {
    "id": "h_5pdoy3-vzt"
   },
   "source": [
    "#### Q3. (Optional)\n",
    "#### Coin Flip Simulation and Inverse Mapping Check\n",
    "\n",
    "Using the `coin_toss(n)` and `count_heads(flips)` functions from Question 1, simulate **n = 4** coin flips.  \n",
    "\n",
    "Then, given a value **a**, write a function `check_inverse_mapping(flips, a)` that checks whether the number of heads in the simulated coin flips equals **a**. In other words, verify if:  \n",
    "\n",
    "$$\n",
    "X(\\xi) = a\n",
    "$$\n",
    "\n",
    "where:  \n",
    "- **$X$** represents the function that counts the number of heads in the sequence.  \n",
    "- **$\\xi$** is the outcome of the 4 coin flips.  \n",
    "\n",
    "The function should print whether **$X(\\xi) = a$** is **True or False**.  \n",
    "Finally, test the function with **a = 2**.  \n"
   ]
  },
  {
   "cell_type": "code",
   "execution_count": 211,
   "metadata": {},
   "outputs": [
    {
     "name": "stdout",
     "output_type": "stream",
     "text": [
      "True is the output of check_inverse_mapping function\n"
     ]
    }
   ],
   "source": [
    "def check_inverse_mapping(flips,a):\n",
    "    number_of_heads = count_heads(flips)\n",
    "    if number_of_heads == a:\n",
    "        return True\n",
    "    else:\n",
    "        return False\n",
    "\n",
    "new_flips = coin_toss(4)\n",
    "result = check_inverse_mapping(new_flips,2)\n",
    "print(result,\"is the output of check_inverse_mapping function\")"
   ]
  },
  {
   "cell_type": "markdown",
   "metadata": {
    "id": "4BR7MiQ8_kYR"
   },
   "source": [
    "# 2. **Probalility Mass function**"
   ]
  },
  {
   "cell_type": "markdown",
   "metadata": {
    "id": "8bhDuutxPGfk"
   },
   "source": [
    "#### Q1. (**Mandatory**)\n",
    "Consider a discrete random variable X with possible values {1, 2, 3, 4, 5}. You are given a function f(x) defined as:\n",
    "\n",
    "$f(x) = c  (x^2 - 6x + 10)$ for x in {1, 2, 3, 4, 5}\n",
    "\n",
    "where c is a constant.\n",
    "\n",
    "Write a Python function is_valid_pmf(f) that:\n",
    "\n",
    "* Determines if f(x) can be a valid PMF for some value of c.\n",
    "\n",
    "* If valid, calculates and returns the value of c that makes f(x) a legitimate PMF.If not valid, returns None and prints why it's not valid.\n",
    "\n",
    "Your function should check both properties of a valid PMF:\n",
    "\n",
    "* Non-negativity for all x\n",
    "\n",
    "* Sum of probabilities equals 1\n",
    "\n",
    "Test your function with the given f(x) and explain your results."
   ]
  },
  {
   "cell_type": "code",
   "execution_count": 289,
   "metadata": {},
   "outputs": [
    {
     "name": "stdout",
     "output_type": "stream",
     "text": [
      "Valid PMF with c = 0.066667\n"
     ]
    }
   ],
   "source": [
    "def f(x):\n",
    "    return (x**2 -6*x + 10)\n",
    "\n",
    "def is_valid_pmf(f):\n",
    "    x = [1,2,3,4,5]\n",
    "    sum = 0\n",
    "    for i in x:\n",
    "        if f(i) < 0:\n",
    "            print(\"f(x) contains negative values, so it cannot be a valid PMF.\")\n",
    "            return None\n",
    "        sum = sum + f(i)\n",
    "    c = 1/sum\n",
    "    return c\n",
    "\n",
    "c_value = is_valid_pmf(f)\n",
    "if c_value is not None:\n",
    "    print(f\"Valid PMF with c = {c_value:.6f}\")"
   ]
  },
  {
   "cell_type": "markdown",
   "metadata": {
    "id": "uSc5pGGrDkG5"
   },
   "source": [
    "#### Q2. (Optional)\n",
    "Simulate flipping a coin 100 times and calculate the empirical PMF for the number of heads (0 to 100)."
   ]
  },
  {
   "cell_type": "code",
   "execution_count": 295,
   "metadata": {},
   "outputs": [
    {
     "data": {
      "image/png": "[encoded data removed]",
      "text/plain": [
       "<Figure size 1000x500 with 1 Axes>"
      ]
     },
     "metadata": {},
     "output_type": "display_data"
    }
   ],
   "source": [
    "num_flips = 100     \n",
    "num_trials = 10000   # Number of trials more the better as we need to calculate PMF\n",
    "p_heads = 0.5       \n",
    "\n",
    "trials = dist.Binomial(total_count=num_flips, probs=p_heads)\n",
    "heads_count = trials.sample((num_trials,))  \n",
    "\n",
    "values, counts = torch.unique(heads_count, return_counts=True)\n",
    "pmf = counts.float() / num_trials  \n",
    "\n",
    "\n",
    "values = values.numpy()\n",
    "pmf = pmf.numpy()\n",
    "\n",
    "\n",
    "plt.figure(figsize=(10, 5))\n",
    "plt.bar(values, pmf, width=1, color='blue', alpha=0.7, edgecolor='black')\n",
    "plt.xlabel(\"Number of Heads in 100 Flips\")\n",
    "plt.ylabel(\"Empirical Probability\")\n",
    "plt.title(\"Empirical PMF of Number of Heads in 100 Coin Flips\")\n",
    "plt.show()\n"
   ]
  },
  {
   "cell_type": "markdown",
   "metadata": {
    "id": "oQ7AjNPYRn6d"
   },
   "source": [
    "#### Q3. (Optional)\n",
    "\n",
    "A small café records the number of customers visiting per day for a month (30 days). The recorded data is as follows:\n",
    "\n",
    "    customer_counts = [12, 15, 14, 10, 18, 16, 14, 12, 15, 11, 17, 14, 13, 19, 12, 18, 14, 10, 16, 15, 14, 13, 17, 12, 18, 16, 14, 11, 19, 13]\n",
    "Compute the PMF for the given data and plot it using Matplotlib. Identify the most common number of daily customers and compare the distribution."
   ]
  },
  {
   "cell_type": "code",
   "execution_count": 298,
   "metadata": {},
   "outputs": [
    {
     "data": {
      "image/png": "[encoded data removed]",
      "text/plain": [
       "<Figure size 1000x500 with 1 Axes>"
      ]
     },
     "metadata": {},
     "output_type": "display_data"
    },
    {
     "name": "stdout",
     "output_type": "stream",
     "text": [
      "The most common number of daily customers is 14.\n"
     ]
    }
   ],
   "source": [
    "customer_counts = torch.tensor([12, 15, 14, 10, 18, 16, 14, 12, 15, 11, \n",
    "                                17, 14, 13, 19, 12, 18, 14, 10, 16, 15, \n",
    "                                14, 13, 17, 12, 18, 16, 14, 11, 19, 13])\n",
    "\n",
    "values, counts = torch.unique(customer_counts, return_counts=True)\n",
    "\n",
    "total_days = customer_counts.shape[0]\n",
    "pmf = counts.float() / total_days  \n",
    "\n",
    "\n",
    "most_common = values[torch.argmax(counts)].item()\n",
    "\n",
    "\n",
    "plt.figure(figsize=(10, 5))\n",
    "plt.bar(values.numpy(), pmf.numpy(), width=0.8, color='blue', alpha=0.7, edgecolor='black')\n",
    "\n",
    "\n",
    "plt.xlabel(\"Number of Customers per Day\")\n",
    "plt.ylabel(\"Empirical Probability\")\n",
    "plt.title(\"Empirical PMF of Daily Customer Counts\")\n",
    "\n",
    "\n",
    "plt.axvline(most_common, color='red', linestyle='dashed', label=f\"Most Common: {most_common}\")\n",
    "plt.legend()\n",
    "\n",
    "plt.show()\n",
    "\n",
    "\n",
    "print(f\"The most common number of daily customers is {most_common}.\")\n"
   ]
  },
  {
   "cell_type": "markdown",
   "metadata": {
    "id": "0oNRCaupqhhl"
   },
   "source": [
    "# 3. **Cumulative Distribution Function**"
   ]
  },
  {
   "cell_type": "markdown",
   "metadata": {
    "id": "HGzuLs8HtPU-"
   },
   "source": [
    "#### Q1. (**Mandatory**)"
   ]
  },
  {
   "cell_type": "markdown",
   "metadata": {
    "id": "Hu2wSoiujR5p"
   },
   "source": [
    "Consider a discrete random variable 𝑋 with possible values 𝑥={1,2,3,4,5} and corresponding probability mass function (PMF):\n",
    "$$ P(X=x)= \\frac{x}{15} ,x∈{1,2,3,4,5}$$\n",
    "\n",
    "where\n",
    "𝑃(𝑋=𝑥) represents the PMF of 𝑋.\n",
    "\n",
    "The Cumulative Distribution Function (CDF) is defined as:\n",
    " $$F_X(x) = P(X≤x)=\\sum_{k≤x}\n",
    " P(X=k)$$\n",
    "\n",
    "\n",
    "Your Task:\n",
    "1. Compute the PMF values for each 𝑥∈{1,2,3,4,5}.\n",
    "2. Compute the CDF $𝐹_X(𝑥)$ for each 𝑥.\n",
    "3. Verify the relationship between PMF and CDF:\n",
    "- $ P(X=x)=F_X(x)−F_X(x−1) $ for all 𝑥≥2.\n",
    "- For 𝑥=1, $𝑃(𝑋=1)=𝐹_𝑋(1)$.\n",
    "4. Print and compare the computed PMF values with the differences in CDF values to confirm the relationship."
   ]
  },
  {
   "cell_type": "code",
   "execution_count": 336,
   "metadata": {},
   "outputs": [
    {
     "name": "stdout",
     "output_type": "stream",
     "text": [
      "P(X=1)= 0.06666667014360428\n",
      "F_X(X=1)= 0.06666667014360428\n",
      "PMF from CDF for X=1 is 0.06666667014360428\n",
      "P(X=2)= 0.13333334028720856\n",
      "F_X(X=2)= 0.20000001788139343\n",
      "PMF from CDF for X=2 is 0.13333335518836975\n",
      "P(X=3)= 0.20000000298023224\n",
      "F_X(X=3)= 0.4000000059604645\n",
      "PMF from CDF for X=3 is 0.19999998807907104\n",
      "P(X=4)= 0.2666666805744171\n",
      "F_X(X=4)= 0.6666666865348816\n",
      "PMF from CDF for X=4 is 0.2666666805744171\n",
      "P(X=5)= 0.3333333432674408\n",
      "F_X(X=5)= 1.0\n",
      "PMF from CDF for X=5 is 0.3333333134651184\n",
      "Hence, this verifies that:\n",
      "\t1) P(X=x) = F_X(x) − F_X(x−1) for all x ≥ 2.\n",
      "\t2) For x = 1, P(X=1) = F_X(1).\n"
     ]
    }
   ],
   "source": [
    "x = torch.tensor([1, 2, 3, 4, 5])\n",
    "pmf = x/15\n",
    "cdf = torch.cumsum(pmf, dim=0)\n",
    "\n",
    "pmf_from_cdf = torch.zeros_like(pmf)\n",
    "pmf_from_cdf[0] = cdf[0]  # P(X=1) = F_X(1)\n",
    "pmf_from_cdf[1:] = cdf[1:] - cdf[:-1]  # P(X=x) = F_X(x) - F_X(x-1) for x >= 2\n",
    "\n",
    "for i in x:\n",
    "    print(f\"P(X={i.item()})=\",pmf[i-1].item())\n",
    "    print(f\"F_X(X={i.item()})=\",cdf[i-1].item())\n",
    "    print(f\"PMF from CDF for X={i.item()} is\",pmf_from_cdf[i-1].item())\n",
    "\n",
    "if torch.allclose(pmf, pmf_from_cdf, atol=1e-6):  \n",
    "    print(\"Hence, this verifies that:\")\n",
    "    print(\"\\t1) P(X=x) = F_X(x) − F_X(x−1) for all x ≥ 2.\")\n",
    "    print(\"\\t2) For x = 1, P(X=1) = F_X(1).\")\n",
    "else:\n",
    "    print(\"Verification failed: PMF does not match the difference of CDF values.\")\n"
   ]
  },
  {
   "cell_type": "markdown",
   "metadata": {
    "id": "eQ9BFFBmyIR5"
   },
   "source": [
    "#### Q2. (Optional)"
   ]
  },
  {
   "cell_type": "markdown",
   "metadata": {
    "id": "dU3HtyiLx7Gc"
   },
   "source": [
    "  Write a Python function to compute the **CDF** for a given **discrete probability distribution**. Your function should:  \n",
    "\n",
    "1. Take as input:  \n",
    "   - A **list or NumPy array** of possible values of a discrete random variable.  \n",
    "   - A corresponding **list or NumPy array** of probability mass function (PMF) values.  \n",
    "\n",
    "2. Return:  \n",
    "   - A list of CDF values corresponding to the input values.  \n",
    "\n",
    "Additionally, perform the following:  \n",
    "\n",
    "- Compute and plot the **CDF** for a **biased 6-sided die**, where the probability distribution is:  \n",
    "\n",
    "| X   | 3   | 1   | 6   | 2   | 5   | 4   |\n",
    "|-----|-----|-----|-----|-----|-----|-----|\n",
    "| P(X)| 0.15| 0.05| 0.25| 0.10| 0.25| 0.20|\n",
    "\n",
    "\n",
    "- Plot the **CDF as a step function** using **Matplotlib**.  "
   ]
  },
  {
   "cell_type": "code",
   "execution_count": 339,
   "metadata": {},
   "outputs": [
    {
     "data": {
      "image/png": "[encoded data removed]",
      "text/plain": [
       "<Figure size 800x500 with 1 Axes>"
      ]
     },
     "metadata": {},
     "output_type": "display_data"
    }
   ],
   "source": [
    "\n",
    "def compute_cdf_torch(x_values, pmf_values):\n",
    "    x_values = torch.tensor(x_values)\n",
    "    pmf_values = torch.tensor(pmf_values)\n",
    "\n",
    "    sorted_x, sorted_indices = torch.sort(x_values)\n",
    "    sorted_pmf = pmf_values[sorted_indices]\n",
    "\n",
    "    cdf_values = torch.cumsum(sorted_pmf, dim=0)\n",
    "\n",
    "    return sorted_x, cdf_values\n",
    "\n",
    "\n",
    "x_values = [3, 1, 6, 2, 5, 4]  \n",
    "pmf_values = [0.15, 0.05, 0.25, 0.10, 0.25, 0.20] \n",
    "\n",
    "\n",
    "sorted_x, cdf_values = compute_cdf_torch(x_values, pmf_values)\n",
    "\n",
    "\n",
    "sorted_x_np = sorted_x.numpy()\n",
    "cdf_values_np = cdf_values.numpy()\n",
    "\n",
    "\n",
    "plt.figure(figsize=(8, 5))\n",
    "plt.step(sorted_x_np, cdf_values_np, where='post', color='blue', linewidth=2, label=\"CDF\")\n",
    "plt.xlabel(\"X (Outcome)\")\n",
    "plt.ylabel(\"F_X(x) (Cumulative Probability)\")\n",
    "plt.title(\"CDF of a Biased 6-Sided Die\")\n",
    "plt.xticks(sorted_x_np)\n",
    "plt.yticks(torch.round(cdf_values, decimals=2).numpy())\n",
    "plt.grid(True, linestyle=\"--\", alpha=0.6)\n",
    "plt.legend()\n",
    "plt.show()\n"
   ]
  },
  {
   "cell_type": "markdown",
   "metadata": {
    "id": "vuA21bdnxFNm"
   },
   "source": [
    "#### Q3. (Optional)"
   ]
  },
  {
   "cell_type": "markdown",
   "metadata": {
    "id": "E_jyuhwbxTsj"
   },
   "source": [
    "Define a function pdf(x) representing a normal distribution.\n",
    "\n",
    "$$\n",
    "f(x) = \\frac{1}{2\\pi\\sigma^2} e^{-\\frac{(x-\\mu)^2}{2\\sigma ^2}}\n",
    "$$\n",
    "\n",
    "Now calcluate the CDF of this function and plot it along with the curve for the above normal distribution."
   ]
  },
  {
   "cell_type": "code",
   "execution_count": 344,
   "metadata": {},
   "outputs": [
    {
     "data": {
      "image/png": "[encoded data removed]",
      "text/plain": [
       "<Figure size 800x500 with 1 Axes>"
      ]
     },
     "metadata": {},
     "output_type": "display_data"
    }
   ],
   "source": [
    "\n",
    "def normal_pdf(x, mu=0, sigma=1):\n",
    "    coef = 1 / (torch.sqrt(torch.tensor(2.0 * torch.pi)) * sigma)\n",
    "    exponent = torch.exp(-((x - mu) ** 2) / (2 * sigma ** 2))\n",
    "    return coef * exponent\n",
    "\n",
    "def normal_cdf(x, mu=0, sigma=1):\n",
    "    return 0.5 * (1 + torch.erf((x - mu) / (torch.sqrt(torch.tensor(2.0)) * sigma)))\n",
    "\n",
    "\n",
    "x_values = torch.linspace(-4, 4, 100)  \n",
    "\n",
    "\n",
    "pdf_values = normal_pdf(x_values)\n",
    "cdf_values = normal_cdf(x_values)\n",
    "\n",
    "\n",
    "x_np = x_values.numpy()\n",
    "pdf_np = pdf_values.numpy()\n",
    "cdf_np = cdf_values.numpy()\n",
    "\n",
    "\n",
    "plt.figure(figsize=(8, 5))\n",
    "plt.plot(x_np, pdf_np, label=\"PDF (Normal Distribution)\", color='blue', linewidth=2)\n",
    "plt.plot(x_np, cdf_np, label=\"CDF (Cumulative Distribution)\", color='red', linewidth=2)\n",
    "plt.xlabel(\"X\")\n",
    "plt.ylabel(\"Probability\")\n",
    "plt.title(\"Normal Distribution: PDF and CDF\")\n",
    "plt.legend()\n",
    "plt.grid(True, linestyle=\"--\", alpha=0.6)\n",
    "plt.show()"
   ]
  },
  {
   "cell_type": "markdown",
   "metadata": {
    "id": "vgZ_RxSKFkIw"
   },
   "source": [
    "# 4. **Expectation**"
   ]
  },
  {
   "cell_type": "markdown",
   "metadata": {
    "id": "ddbE5kQkI_Jx"
   },
   "source": [
    "#### Q1. (**Mandatory**)\n",
    "Simulate a game where you flip a coin three times. The reward system is as follows:\n",
    "\n",
    "\n",
    "*   $8 for exactly 3 heads\n",
    "\n",
    "*   $1 for exactly 2 heads,\n",
    "\n",
    "*   $0 otherwise.\n",
    "\n",
    "The cost to play the game is $1.5. Run the simulation for 10,000 trials and compute the average net gain, compare with theoretical expected net gain?\n"
   ]
  },
  {
   "cell_type": "code",
   "execution_count": 355,
   "metadata": {},
   "outputs": [
    {
     "name": "stdout",
     "output_type": "stream",
     "text": [
      "Simulated Average Net Gain: $-0.1181\n",
      "Theoretical Expected Net Gain: $-0.1250\n"
     ]
    }
   ],
   "source": [
    "\n",
    "num_trials = 10_000\n",
    "num_flips = 3\n",
    "p_head = 0.5\n",
    "cost_to_play = 1.5  \n",
    "\n",
    "\n",
    "binomial_dist = dist.Binomial(total_count=num_flips, probs=p_head)\n",
    "num_heads = binomial_dist.sample((num_trials,)) \n",
    "\n",
    "\n",
    "rewards = torch.zeros(num_trials) \n",
    "rewards[num_heads == 2] = 1  # 2 heads → $1 reward\n",
    "rewards[num_heads == 3] = 8  # 3 heads → $8 reward\n",
    "\n",
    "net_gains = rewards - cost_to_play\n",
    "average_net_gain_simulated = net_gains.mean().item() \n",
    "\n",
    "\n",
    "p_3_heads = binomial_dist.log_prob(torch.tensor(3.0)).exp().item()  \n",
    "p_2_heads = binomial_dist.log_prob(torch.tensor(2.0)).exp().item()  \n",
    "\n",
    "expected_reward = (8 * p_3_heads) + (1 * p_2_heads)  \n",
    "expected_net_gain = expected_reward - cost_to_play  \n",
    "\n",
    "\n",
    "print(f\"Simulated Average Net Gain: ${average_net_gain_simulated:.4f}\")\n",
    "print(f\"Theoretical Expected Net Gain: ${expected_net_gain:.4f}\")\n"
   ]
  },
  {
   "cell_type": "markdown",
   "metadata": {
    "id": "osP7AEI1F-o4"
   },
   "source": [
    "#### Q2. (Optional)\n",
    "Write a Python function that computes the expected value of a discrete random variable given its probability mass function (PMF). The function should take a dictionary where keys represent outcomes and values represent their corresponding probabilities.\n",
    "\n",
    "Example:\n",
    "```python\n",
    "pmf = {1: 0.2, 2: 0.3, 3: 0.5}\n",
    "expected_value = compute_expected_value(pmf)\n",
    "print(expected_value)  # Expected Output: 2.3\n",
    "\n",
    "```\n",
    "\n",
    "\n"
   ]
  },
  {
   "cell_type": "code",
   "execution_count": 369,
   "metadata": {},
   "outputs": [
    {
     "name": "stdout",
     "output_type": "stream",
     "text": [
      "2.3\n"
     ]
    }
   ],
   "source": [
    "pmf = {1: 0.2, 2: 0.3, 3: 0.5}\n",
    "def compute_expected_value(pmf):\n",
    "    expectation = 0\n",
    "    for key,value in pmf.items():\n",
    "        expectation = expectation + key*value\n",
    "    return expectation\n",
    "    \n",
    "\n",
    "expected_value = compute_expected_value(pmf)\n",
    "\n",
    "print(expected_value)"
   ]
  },
  {
   "cell_type": "markdown",
   "metadata": {
    "id": "rHAdendZKJ36"
   },
   "source": [
    "#### Q3. (Optional)\n",
    "\n",
    "Given a discrete random variable with its probability mass function (PMF), compute the expected value of a function \\(g(x)\\). The function \\(g(x)\\) should be provided as input.\n",
    "\n",
    "Example:\n",
    "```python\n",
    "pmf = {1: 0.2, 2: 0.3, 3: 0.5}\n",
    "g = lambda x: x**2\n",
    "expected_value = compute_expected_value_of_function(pmf, g)\n",
    "print(expected_value)\n"
   ]
  },
  {
   "cell_type": "code",
   "execution_count": 372,
   "metadata": {},
   "outputs": [
    {
     "name": "stdout",
     "output_type": "stream",
     "text": [
      "5.9\n"
     ]
    }
   ],
   "source": [
    "pmf = {1: 0.2, 2: 0.3, 3: 0.5}\n",
    "g = lambda x: x**2\n",
    "\n",
    "def compute_expected_value_of_function(pmf,g):\n",
    "    expectation = 0\n",
    "    for key,value in pmf.items():\n",
    "        expectation = expectation + g(key)*value\n",
    "    return expectation\n",
    "\n",
    "expected_value = compute_expected_value_of_function(pmf, g)\n",
    "print(expected_value)"
   ]
  },
  {
   "cell_type": "markdown",
   "metadata": {
    "id": "g8wMHIlmFp8F"
   },
   "source": [
    "# 5. **Moments and Variance**"
   ]
  },
  {
   "cell_type": "markdown",
   "metadata": {
    "id": "pMNwE30BKWIr"
   },
   "source": [
    "#### Q1. (**Mandatory**)\n",
    "Write a function to compute the variance of a discrete random variable given its probability mass function.\n",
    "\n",
    "Example:\n",
    "```python\n",
    "pmf = {1: 0.2, 2: 0.3, 3: 0.5}\n",
    "variance = compute_variance(pmf)\n",
    "print(variance)\n"
   ]
  },
  {
   "cell_type": "code",
   "execution_count": 375,
   "metadata": {},
   "outputs": [
    {
     "name": "stdout",
     "output_type": "stream",
     "text": [
      "0.6100000000000012\n"
     ]
    }
   ],
   "source": [
    "pmf = {1: 0.2, 2: 0.3, 3: 0.5}\n",
    "\n",
    "def compute_variance(pmf):\n",
    "    return compute_expected_value_of_function(pmf, g) - compute_expected_value(pmf)*compute_expected_value(pmf)\n",
    "\n",
    "variance = compute_variance(pmf)\n",
    "print(variance)"
   ]
  },
  {
   "cell_type": "markdown",
   "metadata": {
    "id": "nCyWle3ONwra"
   },
   "source": [
    "#### Q2. (Optional)\n",
    "Write a function to compute the k-th moment of a discrete random variable given its probability mass function.\n",
    "\n",
    "Example:\n",
    "```python\n",
    "pmf = {1: 0.2, 2: 0.3, 3: 0.5}\n",
    "k = 3\n",
    "moment = compute_moment(pmf, k)\n",
    "print(moment)\n"
   ]
  },
  {
   "cell_type": "code",
   "execution_count": 379,
   "metadata": {},
   "outputs": [
    {
     "name": "stdout",
     "output_type": "stream",
     "text": [
      "16.1\n"
     ]
    }
   ],
   "source": [
    "pmf = {1: 0.2, 2: 0.3, 3: 0.5}\n",
    "k = 3\n",
    "def compute_moment(pmf, k):\n",
    "    return compute_expected_value_of_function(pmf, lambda x:x**k)\n",
    "moment = compute_moment(pmf, k)\n",
    "print(moment)"
   ]
  },
  {
   "cell_type": "markdown",
   "metadata": {
    "id": "ySH0CaT7OfX_"
   },
   "source": [
    "#### Q3. (Optional)\n",
    "Simulate and Estimate the variance of a given function \\( f(x) \\) when \\( X \\) is uniformly distributed over [a, b].\n",
    "\n",
    "Example:\n",
    "```python\n",
    "import numpy as np\n",
    "f = lambda x: x**2\n",
    "a, b, N = 0, 1, 10000\n",
    "variance = estimate_variance(f, a, b, N)\n",
    "print(variance)\n"
   ]
  },
  {
   "cell_type": "code",
   "execution_count": 418,
   "metadata": {},
   "outputs": [
    {
     "name": "stdout",
     "output_type": "stream",
     "text": [
      "0.08891176050783728\n"
     ]
    }
   ],
   "source": [
    "import numpy as np\n",
    "def estimate_variance(f, a, b, N):\n",
    "    X = np.random.uniform(a, b, N)\n",
    "    f_X = f(X)\n",
    "    variance = np.var(f_X, ddof=1)  \n",
    "    return variance\n",
    "\n",
    "f = lambda x: x**2\n",
    "a, b, N = 0, 1, 10000\n",
    "variance = estimate_variance(f, a, b, N)\n",
    "print(variance)\n"
   ]
  },
  {
   "cell_type": "markdown",
   "metadata": {
    "id": "Yy96ebCzFwc-"
   },
   "source": [
    "# 6. **Bernoulli Random Variables**"
   ]
  },
  {
   "cell_type": "markdown",
   "metadata": {
    "id": "QKJYlSFoRNhY"
   },
   "source": [
    "#### Q1. (**Mandatory**)\n",
    "Write a function that simulates a Bernoulli-distributed random variable with a given probability \\( p \\).\n",
    "\n",
    "Example:\n",
    "```python\n",
    "p = 0.7\n",
    "outcome = bernoulli_trial(p)\n",
    "print(outcome)  # Expected Output: 0 or 1\n"
   ]
  },
  {
   "cell_type": "code",
   "execution_count": 390,
   "metadata": {},
   "outputs": [
    {
     "name": "stdout",
     "output_type": "stream",
     "text": [
      "1.0\n"
     ]
    }
   ],
   "source": [
    "p = 0.7\n",
    "def bernoulli_trial(p):\n",
    "    trial = dist.Bernoulli(probs = p).sample((1,))\n",
    "    return trial.item()\n",
    "outcome = bernoulli_trial(p)\n",
    "print(outcome)"
   ]
  },
  {
   "cell_type": "markdown",
   "metadata": {
    "id": "ih4Y5G-KRo-e"
   },
   "source": [
    "#### Q2. (Optional)\n",
    "Given \\( p \\), the probability of success in a Bernoulli distribution, compute its expectation and variance.\n",
    "\n",
    "Example:\n",
    "```python\n",
    "p = 0.5\n",
    "expectation, variance = bernoulli_stats(p)\n",
    "print(expectation, variance)\n"
   ]
  },
  {
   "cell_type": "code",
   "execution_count": 409,
   "metadata": {},
   "outputs": [
    {
     "name": "stdout",
     "output_type": "stream",
     "text": [
      "0.5 0.25\n"
     ]
    }
   ],
   "source": [
    "p = 0.5\n",
    "def bernoulli_stats(p):\n",
    "    trial = dist.Bernoulli(probs = p)\n",
    "    return trial.mean.item(), trial.variance.item()\n",
    "expectation, variance = bernoulli_stats(p)\n",
    "print(expectation, variance)"
   ]
  },
  {
   "cell_type": "markdown",
   "metadata": {
    "id": "t0jkfyQPR591"
   },
   "source": [
    "#### Q3. (Optional)\n",
    "Write a function that simulates `N` Bernoulli trials and computes the proportion of successes.\n",
    "\n",
    "Example:\n",
    "```python\n",
    "p = 0.3\n",
    "N = 1000\n",
    "proportion = simulate_bernoulli(p, N)\n",
    "print(proportion)\n"
   ]
  },
  {
   "cell_type": "code",
   "execution_count": 415,
   "metadata": {},
   "outputs": [
    {
     "name": "stdout",
     "output_type": "stream",
     "text": [
      "0.2750000059604645\n"
     ]
    }
   ],
   "source": [
    "p = 0.3\n",
    "N = 1000\n",
    "def simulate_bernoulli(p, N):\n",
    "    trial = dist.Bernoulli(probs = p)\n",
    "    expirements = trial.sample((N,))\n",
    "    proportion = expirements.mean().item()\n",
    "    return proportion\n",
    "\n",
    "proportion = simulate_bernoulli(p, N)\n",
    "print(proportion)"
   ]
  },
  {
   "cell_type": "markdown",
   "metadata": {
    "id": "q8pb3dNDccA_"
   },
   "source": [
    "# 7. **Binomial Distribution**"
   ]
  },
  {
   "cell_type": "markdown",
   "metadata": {
    "id": "6fwkUtQdcWTZ"
   },
   "source": [
    "#### Q1. (**Mandatory**)\n",
    "Write a Python function that simulates a Binomial random variable. The function should take three inputs:\n",
    "- `n` (number of trials)\n",
    "- `p` (probability of success)\n",
    "- `size` (number of random values to generate)\n",
    "\n",
    "Plot a histogram of the generated values for `n=10`, `p=0.5`, and `size=1000`.\n"
   ]
  },
  {
   "cell_type": "markdown",
   "metadata": {
    "id": "BM-W1Dmtcp-U"
   },
   "source": [
    "#### Q2. (Optional)\n",
    "Write a Python program that:\n",
    "1. Computes the probability mass function (PMF) of a Binomial distribution.\n",
    "2. Plots the PMF for `n=20` and `p=0.3`.\n"
   ]
  },
  {
   "cell_type": "markdown",
   "metadata": {
    "id": "n6cykx_bcr34"
   },
   "source": [
    "#### Q3. (Optional)\n",
    "Simulate a fair coin being flipped 100 times and count the number of heads. Repeat this experiment 1000 times and visualize the distribution using a histogram. Explain how this relates to the Binomial distribution."
   ]
  },
  {
   "cell_type": "markdown",
   "metadata": {
    "id": "XeT0mKQcc0Fn"
   },
   "source": [
    "# 8. **Geometric Distribution**"
   ]
  },
  {
   "cell_type": "markdown",
   "metadata": {
    "id": "FmkQn3oYc5z5"
   },
   "source": [
    "#### Q1. (**Mandatory**)\n",
    "#### Simulating Geometric Distribution\n",
    "Write a Python function that generates random numbers from a Geometric distribution. The function should take:\n",
    "- `p` (probability of success)\n",
    "- `size` (number of values to generate)\n",
    "\n",
    "Plot a histogram for `p=0.3` and `size=1000`."
   ]
  },
  {
   "cell_type": "markdown",
   "metadata": {
    "id": "p0IofI50c-S3"
   },
   "source": [
    "#### Q2. (Optional)\n",
    "#### Expected Number of Trials\n",
    "Create an interactive Python program that uses `ipywidgets` and `matplotlib` to visualize the probability mass function (PMF) of the Geometric distribution. Users can adjust the probability of success \\( p \\) and the maximum number of trials \\( k \\) to display."
   ]
  },
  {
   "cell_type": "markdown",
   "metadata": {
    "id": "PN-p60rJc-AY"
   },
   "source": [
    "#### Q3. (Optional)\n",
    "#### Estimating `p` from Sample Data\n",
    "Generate a dataset of 500 Geometric random variables with `p=0.4`. Then, estimate `p` from the data using the formula:\n",
    "\n",
    "$$\\hat{p} = \\frac{1}{\\text{sample mean}}$$\n",
    "\n",
    "Compare the estimated value with the true `p=0.4` and compute the percentage error."
   ]
  },
  {
   "cell_type": "markdown",
   "metadata": {
    "id": "BsYyOiaQdEt5"
   },
   "source": [
    "# 9. **Poisson Distribution**"
   ]
  },
  {
   "cell_type": "markdown",
   "metadata": {
    "id": "Tc-N5EM7dPlG"
   },
   "source": [
    "#### Q1. (**Mandatory**)\n",
    "Write a Python function that generates Poisson random variables. The function should take:\n",
    "- `λ` (expected number of events per interval)\n",
    "- `size` (number of values to generate)\n",
    "\n",
    "Plot a histogram for `λ=5` and `size=1000`."
   ]
  },
  {
   "cell_type": "markdown",
   "metadata": {
    "id": "7W1a8nf4dSck"
   },
   "source": [
    "#### Q2. (Optional)\n",
    "Generate 1000 samples from a Binomial distribution with `n=100` and `p=0.05`. Then, generate 1000 samples from a Poisson distribution with `λ=n*p=5`. Compare their histograms and explain why the Poisson distribution approximates the Binomial distribution for large `n` and small `p`."
   ]
  },
  {
   "cell_type": "markdown",
   "metadata": {
    "id": "cqcv1zW-dUkA"
   },
   "source": [
    "#### Q3. (Optional)\n",
    "A call center receives calls at an average rate of 3 calls per minute. Assume the number of calls follows a Poisson distribution.\n",
    "1. Compute the probability of receiving exactly 5 calls in a minute.\n",
    "2. Compute the probability of receiving at most 5 calls."
   ]
  },
  {
   "cell_type": "markdown",
   "metadata": {
    "id": "p4v_YdEb81gq"
   },
   "source": [
    "# 10. **Probability Density function**"
   ]
  },
  {
   "cell_type": "markdown",
   "metadata": {
    "id": "3ezCZRI99BdL"
   },
   "source": [
    "#### Q1. (**Mandatory**)\n",
    "Implement a piecewise PDF defined as:\n",
    "\n",
    "$$\n",
    "f(x) =\n",
    "\\begin{cases}\n",
    "0.5x & \\text{if } 0 \\leq x \\leq 1 \\\\\n",
    "2 - x & \\text{if } 1 < x \\leq 2 \\\\\n",
    "0 & \\text{otherwise}\n",
    "\\end{cases}\n",
    "$$\n",
    "\n",
    "Compute P(0.5≤X≤1.5) analytically and verify using numerical integration.\n",
    "\n",
    "Plot the PDF and highlight the area under the curve for the computed probability."
   ]
  },
  {
   "cell_type": "markdown",
   "metadata": {
    "id": "8kuOwnHGKGh4"
   },
   "source": [
    "#### Q2. (Optional)\n",
    "Write a Python program to estimate the probability density function of a given dataset using a histogram.\n",
    "\n",
    "* Generate or load a dataset (e.g., from a normal distribution with mean = 0 and standard deviation = 1, sample size = 1000).\n",
    "* Compute the histogram with an appropriate number of bins.\n",
    "* Normalize the histogram so that it represents a probability density function and plot the estimated PDF."
   ]
  },
  {
   "cell_type": "markdown",
   "metadata": {
    "id": "rPgp7t-hOGNy"
   },
   "source": [
    "#### Q3. (Optional)\n",
    "Random variable X defined as:\n",
    "\n",
    "Discrete PMF: P(X=0)=0.2.\n",
    "\n",
    "Continuous PDF: For 1≤x≤3, f(x)=0.4.\n",
    "\n",
    "X is undefined outside {0}∪[1,3].\n",
    "\n",
    "* a) Confirm the total probability is 1.\n",
    "* b) Compute P(1.5≤X≤2.5)."
   ]
  },
  {
   "cell_type": "markdown",
   "metadata": {
    "id": "6NxF_1rZXB5w"
   },
   "source": [
    "# 11. **Expectation(continuous)**"
   ]
  },
  {
   "cell_type": "markdown",
   "metadata": {
    "id": "-mOKnpZEjWok"
   },
   "source": [
    "####Q1. (**Mandatory**)\n",
    "Implement a function to compute E[X] for a continuous random variable with a piecewise probability density function (PDF).\n",
    "\n",
    "```python\n",
    "def expectation_piecewise_pdf(intervals: list, funcs: list) -> float:\n",
    "    \"\"\"\n",
    "    Compute E[X] for a piecewise PDF defined over intervals.\n",
    "    \n",
    "    Args:\n",
    "        intervals: List of tuples defining intervals, e.g., [(0, 1), (1, 2)]\n",
    "        funcs: List of functions corresponding to each interval's PDF\n",
    "    \"\"\"\n",
    "    \n",
    "    # Example:\n",
    "    def f1(x): return x   # For 0 <= x <= 1\n",
    "    def f2(x): return 2 - x  # For 1 < x <= 2\n",
    "    expectation_piecewise_pdf([(0, 1), (1, 2)], [f1, f2]) ≈ 1.0\n",
    "\n"
   ]
  },
  {
   "cell_type": "markdown",
   "metadata": {
    "id": "aqCoF8uWjffm"
   },
   "source": [
    "####Q2. (Optional)\n",
    "Compute E[g(X)] for a continuous random variable X with PDF f(x) and transformation g, using numerical integration.\n",
    "```python\n",
    "def expectation_transform(g, pdf, lower: float, upper: float) -> float:\n",
    "    \"\"\"\n",
    "    Compute E[g(X)] where X has the given PDF.\n",
    "    \n",
    "    Args:\n",
    "        g: Function to transform X (e.g., lambda x: x**2)\n",
    "        pdf: Probability density function of X\n",
    "        lower: Lower bound of X's support\n",
    "        upper: Upper bound of X's support\n",
    "    \"\"\"\n",
    "    # Example:\n",
    "    f = lambda x: 2*x  # PDF for X ~ Uniform(0,1) transformed by Y=2X\n",
    "    expectation_transform(lambda x: x, f, 0, 1) ≈ 2/3\n",
    "  \n"
   ]
  },
  {
   "cell_type": "markdown",
   "metadata": {
    "id": "cb3P-5WUnJfn"
   },
   "source": [
    "# **12. Cumulative distribution function for continuous random variables**"
   ]
  },
  {
   "cell_type": "markdown",
   "metadata": {
    "id": "5fxXqewsuss8"
   },
   "source": [
    "#### Q1. (**Mandatory**)\n",
    "Write a function to compute and plot the Cumulative Distribution Function (CDF) for a Uniform continuous random variable\n",
    "𝑋 ∼ 𝑈(𝑎,𝑏) given the probability density function (PDF):\n",
    "\n",
    "\n",
    "$$ f_X(x)= \\begin{cases}\n",
    "\\frac{1}{b−a} & ,\\text a≤x≤b \\\\\n",
    "0 & ,\\text {otherwise}\n",
    "\\end {cases}\n",
    "$$\n",
    "\n",
    "Your function should:\n",
    "\n",
    "1. Take a and b (where 𝑎 < 𝑏) as inputs.\n",
    "2. Compute the CDF $𝐹_𝑋(𝑥)$\n",
    "3. Generate an array of 𝑥-values and compute $ 𝐹_𝑋(𝑥) $.\n",
    "4. Plot the CDF curve using Matplotlib.​\n",
    "\n",
    "\n",
    "\n",
    "\n",
    "\n",
    "\n",
    "\n",
    "\n",
    "\n",
    "\n",
    "\n",
    "\n",
    "\n"
   ]
  },
  {
   "cell_type": "markdown",
   "metadata": {
    "id": "EbqUecGtnRqg"
   },
   "source": [
    "#### Q2. (Optional)\n",
    "A continuous random variable 𝑋 follows an Exponential distribution with a given rate parameter 𝜆. The probability density function (PDF) of 𝑋 is:\n",
    "    $$ f_X(x)=λe^{−λx} ,x≥0 $$\n",
    "\n",
    "Your task is to derive and compute the CDF $𝐹_𝑋(𝑥)$ of the given exponential distribution for a given 𝜆.\n",
    "\n",
    "Instructions:\n",
    "1. Write a function that takes 𝑥 and 𝜆 as input and returns the cumulative distribution function (CDF) $ 𝐹_𝑋(𝑥)$.\n",
    "2. Compute the CDF for different values of 𝑥 in the range [0, 5].\n",
    "3. Plot the CDF curve for a given 𝜆."
   ]
  },
  {
   "cell_type": "markdown",
   "metadata": {
    "id": "514sAxynnOZI"
   },
   "source": [
    "#### Q3. (Optional)\n",
    "A continuous random variable 𝑋 follows an Exponential distribution with a rate parameter 𝜆. The PDF of 𝑋 is given as:\n",
    "$$ 𝑓_𝑋(𝑥)=𝜆𝑒^{−𝜆𝑥},𝑥≥0 $$\n",
    "\n",
    "Your task is to compute the probability 𝑃(1≤𝑋≤3) using two different approaches:\n",
    "\n",
    "(a) PDF Approach:\n",
    "Compute the probability using numerical integration of the PDF over the interval [1,3].\n",
    "\n",
    "(b) CDF Approach:\n",
    "Compute the probability using the CDF formula.\n"
   ]
  },
  {
   "cell_type": "markdown",
   "metadata": {
    "id": "d_m5esZMzwS-"
   },
   "source": [
    "\n",
    "# 13. **Mean, Mode, and Median**  \n",
    "*(Refer to https://probability4datascience.com/slides/Slide_4_04.pdf)*\n",
    "\n"
   ]
  },
  {
   "cell_type": "markdown",
   "metadata": {
    "id": "zeYcynFr3Ths"
   },
   "source": [
    "####Q1. (Optional)\n",
    "#### Compute Summary Statistics:\n",
    "   Using a numerical dataset, write a Python snippet to compute the mean, median, and mode using built-in libraries.  \n",
    "\n"
   ]
  },
  {
   "cell_type": "markdown",
   "metadata": {
    "id": "PxWPALs33V2G"
   },
   "source": [
    "####Q2. (**Mandatory**)\n",
    "#### Visualize Distribution with Markers:  \n",
    "   Generate a sample (e.g., from a normal distribution) and plot its histogram. Then mark the mean (red), median (green), and an approximate mode (blue, as the bin with maximum count) on the plot.  \n",
    "   \n",
    "\n"
   ]
  },
  {
   "cell_type": "markdown",
   "metadata": {
    "id": "t8YOCtsx3Yqj"
   },
   "source": [
    "###Q3. (Optional)\n",
    "#### Sample vs. Theoretical Comparison:\n",
    "   Generate 1000 samples from a known distribution (e.g., Uniform over [0, 10]) and compute the sample mean, median, and mode. Compare these with the theoretical values (mean = 5, median = 5).  \n",
    "\n"
   ]
  },
  {
   "cell_type": "markdown",
   "metadata": {
    "id": "l0skLvBQ3OGf"
   },
   "source": [
    "# 14. **Uniform Random Variables**  \n",
    "*(Refer to https://probability4datascience.com/slides/Slide_4_05.pdf)*\n"
   ]
  },
  {
   "cell_type": "markdown",
   "metadata": {
    "id": "GqS_q7k43fxi"
   },
   "source": [
    "####Q1. (**Mandatory**)\n",
    "#### Simulate and Plot PDF & CDF:  \n",
    "   Simulate a Uniform random variable over [2, 5] and plot its PDF and CDF using matplotlib, matching the formulas in the slide.  \n",
    "  "
   ]
  },
  {
   "cell_type": "markdown",
   "metadata": {
    "id": "skM9aJZW3iay"
   },
   "source": [
    "\n",
    "####Q2. (Optional)\n",
    "#### Compute Theoretical Moments:\n",
    "   Calculate the theoretical mean and variance for a Uniform(a, b) random variable with a = 2 and b = 5 using the formulas from the slide.  \n",
    "  "
   ]
  },
  {
   "cell_type": "markdown",
   "metadata": {
    "id": "0SEtyKe93kpO"
   },
   "source": [
    "####Q3. (Optional)\n",
    "#### Probability Calculation Using CDF:  \n",
    "   For X ∼ Uniform(2, 5), compute P[3 ≤ X ≤ 4] using the CDF approach described in the slide.  \n"
   ]
  },
  {
   "cell_type": "markdown",
   "metadata": {
    "id": "3tuOTuNw3nF_"
   },
   "source": [
    "# 15. **Exponential Random Variables**  \n",
    "*(Refer https://probability4datascience.com/slides/Slide_4_06.pdf)*\n"
   ]
  },
  {
   "cell_type": "markdown",
   "metadata": {
    "id": "vaKxmFwk3o-a"
   },
   "source": [
    "####Q1. (**Mandatory**)\n",
    "#### Simulate and Overlay Theoretical PDF:  \n",
    "   Simulate 1000 samples from an Exponential(λ = 0.5) distribution, then plot a histogram of the samples with the theoretical PDF overlay.  \n",
    "  \n"
   ]
  },
  {
   "cell_type": "markdown",
   "metadata": {
    "id": "fuPm4Afj3qfz"
   },
   "source": [
    "####Q2. (Optional)\n",
    "#### Theoretical Mean and Variance:  \n",
    "   Using the formulas from the slide, compute the theoretical mean and variance for an Exponential distribution with λ = 0.5.  \n",
    "   \n"
   ]
  },
  {
   "cell_type": "markdown",
   "metadata": {
    "id": "PEto26mF3sH3"
   },
   "source": [
    "####Q3. (Optional)\n",
    "#### Compute Tail Probability:  \n",
    "   For an Exponential(λ = 0.5) random variable, calculate P[T > 3] using the survival function (i.e. 1 – CDF) as derived in the slide.  \n",
    "  "
   ]
  },
  {
   "cell_type": "markdown",
   "metadata": {
    "id": "S6JARdOOojiQ"
   },
   "source": [
    "# 16. **Gaussian Random Variables**"
   ]
  },
  {
   "cell_type": "markdown",
   "metadata": {
    "id": "GsBA9c49pYjA"
   },
   "source": [
    "#### Q1. (**Mandatory**)\n",
    "The PDF of a Gaussian random variable $ X \\sim \\mathcal{N}(\\mu, \\sigma^2) $ is given by:\n",
    "\n",
    " $$\n",
    " f_X(x) = \\frac{1}{\\sqrt{2\\pi\\sigma^2}} \\exp\\left(-\\frac{(x-\\mu)^2}{2\\sigma^2}\\right).\n",
    " $$\n",
    "1. Use `torch.distributions`, generate 100 random samples from a Gaussian distribution with a mean of 3 and a standard deviation of 2.\n",
    "2. Plot a histogram of the samples and calculate the sample mean and variance of the distribution.\n",
    "3. Repeat this process for sample sizes of 10000 and 1000000.\n",
    "\n",
    "Observe how the shape of the histogram changes as the sample size increases. What patterns or trends do you notice in the calculated sample mean and variance?"
   ]
  },
  {
   "cell_type": "markdown",
   "metadata": {
    "id": "yQwLB_5PrlSG"
   },
   "source": [
    "#### Q2. (Optional)\n",
    "Let $ X \\sim \\mathcal{N}(0,1) $ be a standard Gaussian random variable. Define a new random\n",
    "variable $ Y = 4X + 10 $. What is the distribution of $ Y $? Verify your answer by ploting histogram of random variable $Y$. You can use `torch.distributions` for generating samples for Gaussian random vairable."
   ]
  },
  {
   "cell_type": "markdown",
   "metadata": {
    "id": "xvzp2VRfyMwF"
   },
   "source": [
    "#### Q3. (Optional)\n",
    "\n",
    "Let $X \\sim \\mathcal{N}(\\mu_1, \\sigma_1^2)$ with $\\mu_1 = 3$ and $\\sigma_1 = 2$, and let\n",
    "$Y \\sim \\mathcal{N}(\\mu_2, \\sigma_2^2)$ with $\\mu_2 = -1$ and $\\sigma_2 = 1$. Define a new random variable\n",
    "$Z = X + Y$.\n",
    "1. Determine the theoretical mean and variance of Z. Write this in a markdown cell.\n",
    "2. Verify the theoretical mean and variance that you get by generating 10,000 samples for 𝑋 and 𝑌 using `torch.distributions` and computing their sum to get 𝑍. Print the empirical mean and variance of 𝑍.\n",
    "3. Plot histogram of the distribution of random variable 𝑍.\n"
   ]
  },
  {
   "cell_type": "markdown",
   "metadata": {
    "id": "PrIOv6XFSvCn"
   },
   "source": [
    "# 17. **Transformation of random Variables**"
   ]
  },
  {
   "cell_type": "markdown",
   "metadata": {
    "id": "Rcb28bTIUa63"
   },
   "source": [
    "#### Q1. (**Mandatory**)\n",
    "Write a function that performs the following tasks:\n",
    "\n",
    "1. Generate 10,000 samples from a uniform distribution in the range [0, 1].\n",
    "2. Apply a linear transformation Y = 2X + 3 to the generated samples.\n",
    "3. Plot the histogram of the original samples and the transformed samples side by side.\n",
    "4. Calculate and print the mean and variance of both the original and transformed distributions."
   ]
  },
  {
   "cell_type": "markdown",
   "metadata": {
    "id": "5TnNmiHNSz_f"
   },
   "source": [
    "#### Q2. (Optional)\n",
    "Let X be a continuous random variable following a Uniform(0,1) distribution. Define a new random variable: Y=−ln(X)\n",
    "\n",
    "(a). Generate 10,000 samples of **X** and compute **Y**.\n",
    "\n",
    "(b). Plot the histogram of **Y**, and compare it with the probability density function (PDF) of an exponential distribution with parameter λ=1/2."
   ]
  },
  {
   "cell_type": "markdown",
   "metadata": {
    "id": "jfdw7nfSGR0q"
   },
   "source": [
    "#### Q3. (Optional)\n",
    "Combined Transformation Involving a Logarithmic Function\n",
    "\n",
    "Let $X \\sim \\mathcal{N}(0,1)$ and define a new random variable $Z = \\ln(|X| + 1)$.\n",
    "\n",
    "1. Use `torch.distributions` to simulate 10,000 samples of $X$, compute $Z$, and estimate its empirical distribution.\n",
    "2. Plot the histogram of $Z$ and compare it with the histogram of $X$.\n"
   ]
  },
  {
   "cell_type": "markdown",
   "metadata": {
    "id": "VVWk8_ETX0Gr"
   },
   "source": [
    "# 18. **Generating Random Numbers**"
   ]
  },
  {
   "cell_type": "markdown",
   "metadata": {
    "id": "XWT7YwNpX_B_"
   },
   "source": [
    "#### Q1. (**Mandatory**)\n",
    "\n",
    "(a) Generate 10,000 samples from a uniform distribution U(0,1).\n",
    "\n",
    "(b) Transform these samples to generate exponential random variables with parameter λ = 2.\n",
    "\n",
    "(c) Plot a histogram of the generated exponential random variables."
   ]
  },
  {
   "cell_type": "markdown",
   "metadata": {
    "id": "AIbKJPyGZXfq"
   },
   "source": [
    "#### Q2. (Optional)\n",
    "Given an exponential distribution with rate parameter λ=3.\n",
    "\n",
    "write a Python function that:\n",
    "\n",
    "(a) Generates a single exponential random variable using inverse transform sampling.\n",
    "Uses the transformation X=− 1/λ ln(1−U), where U is a uniform random number between 0 and 1 and returns the generated exponential random variable."
   ]
  },
  {
   "cell_type": "markdown",
   "metadata": {
    "id": "dOapArEGaWVe"
   },
   "source": [
    "#### Q3. (Optional)\n",
    " Write a Python function that:\n",
    "\n",
    "(a). Generates N random samples from a uniform distribution U(0,1) and transforms the samples into exponential random variables with rate λ=5 using inverse transform sampling.\n",
    "\n",
    "(b) Apply a nonlinear transformation Z = X² to each generated exponential random variable X.\n",
    "\n",
    "(c) Calculates and returns the following:\n",
    "\n",
    "    (a) The proportion of values in Z that exceed a threshold t (provided as a function parameter).\n",
    "\n",
    "    (b) The sample mean and sample variance of both X and Z."
   ]
  }
 ],
 "metadata": {
  "colab": {
   "collapsed_sections": [
    "lFX2mG1m9I2h",
    "HGzuLs8HtPU-",
    "PrIOv6XFSvCn",
    "VVWk8_ETX0Gr"
   ],
   "provenance": []
  },
  "kernelspec": {
   "display_name": "Python [conda env:base] *",
   "language": "python",
   "name": "conda-base-py"
  },
  "language_info": {
   "codemirror_mode": {
    "name": "ipython",
    "version": 3
   },
   "file_extension": ".py",
   "mimetype": "text/x-python",
   "name": "python",
   "nbconvert_exporter": "python",
   "pygments_lexer": "ipython3",
   "version": "3.12.2"
  }
 },
 "nbformat": 4,
 "nbformat_minor": 4
}
