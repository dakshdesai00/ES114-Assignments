{
 "cells": [
  {
   "cell_type": "markdown",
   "metadata": {
    "id": "tPAukflovsUi"
   },
   "source": [
    "# Set Theory Concepts"
   ]
  },
  {
   "cell_type": "markdown",
   "metadata": {
    "id": "Xs6xlBjasUy7",
    "jp-MarkdownHeadingCollapsed": true
   },
   "source": [
    "## Definition of a Partition\n",
    "\n",
    "A collection of sets \\\\(\\{A_1, \\ldots, A_n\\}\\\\) is a **partition** of the universal set \\\\(\\Omega\\\\) if it satisfies the following conditions:\n",
    "\n",
    "- **Non-overlap**: \\\\(\\{A_1, \\ldots, A_n\\}\\\\) is disjoint.\n",
    "- **Decompose**: \\\\(A_1 \\cup A_2 \\cup \\ldots \\cup A_n = \\Omega\\\\).\n",
    "\n",
    "---\n",
    "\n",
    "## Important Laws\n",
    "\n",
    "### Distributive (How to mix union and intersection)\n",
    "$$\n",
    "A \\cap (B \\cup C) = (A \\cap B) \\cup (A \\cap C)\n",
    "$$\n",
    "\n",
    "$$\n",
    "A \\cup (B \\cap C) = (A \\cup B) \\cap (A \\cup C)\n",
    "$$\n",
    "\n",
    "---\n",
    "\n",
    "### De Morgan’s Law (How to complement over intersection and union)\n",
    "\n",
    "$$\n",
    "(A \\cap B)^c = A^c \\cup B^c\n",
    "$$\n",
    "\n",
    "$$\n",
    "(A \\cup B)^c = A^c \\cap B^c\n",
    "$$\n"
   ]
  },
  {
   "cell_type": "markdown",
   "metadata": {
    "id": "-xAi31aVvyeg"
   },
   "source": [
    "# Questions"
   ]
  },
  {
   "cell_type": "markdown",
   "metadata": {
    "id": "on65yEpev3q1"
   },
   "source": [
    "## Question 1: Function to Check Partition\n",
    "Write a Python function to check if a given list of sets is a partition of a universal set. The function should take the universal set and the list of sets as arguments and verify the following conditions:\n",
    "1. The union of all subsets in the list equals the universal set.\n",
    "2. The subsets are pairwise disjoint.\n",
    "\n",
    "Write your function and test it with an example."
   ]
  },
  {
   "cell_type": "code",
   "execution_count": 30,
   "metadata": {},
   "outputs": [
    {
     "name": "stdout",
     "output_type": "stream",
     "text": [
      "Union  of Subset is not equal to Universal Set and Subset are disjoints.\n",
      "Subset are not disjoints\n",
      "Union of Subset is not equal to Universal Set\n"
     ]
    }
   ],
   "source": [
    "def is_partition(universal_set, subsets):\n",
    "    \n",
    "    union_of_subsets = set().union(*subsets)\n",
    "    if union_of_subsets != universal_set:\n",
    "        return \"Union of Subset is not equal to Universal Set\"\n",
    "    \n",
    "    for i, subset1 in enumerate(subsets):\n",
    "        for j, subset2 in enumerate(subsets):\n",
    "            if i != j and subset1.intersection(subset2):\n",
    "                return \"Subset are not disjoints\"\n",
    "    \n",
    "    return \"Union  of Subset is not equal to Universal Set and Subset are disjoints.\"\n",
    "\n",
    "universal = {1, 2, 3, 4, 5}\n",
    "\n",
    "subsets = [{1, 2}, {3}, {4, 5}]\n",
    "print(is_partition(universal, subsets))\n",
    "\n",
    "subsets_invalid_disjoint = [{1, 2}, {2, 3}, {4, 5}]\n",
    "print(is_partition(universal, subsets_invalid_disjoint))\n",
    "\n",
    "subsets_invalid_missing = [{1, 2}, {3}]\n",
    "print(is_partition(universal, subsets_invalid_missing))"
   ]
  },
  {
   "cell_type": "markdown",
   "metadata": {
    "id": "3PHWS9AKv8TQ"
   },
   "source": [
    "## Question 2: Laws\n",
    "With an example numpy array corresponding to set A, B, C, show the distributive properties and De Morgan's Laws. Also, use `venn3` from `matplotlib_venn` library for vizualization.\n",
    "\n"
   ]
  },
  {
   "cell_type": "code",
   "execution_count": 32,
   "metadata": {},
   "outputs": [
    {
     "name": "stdout",
     "output_type": "stream",
     "text": [
      "Distributive Law\n",
      "\n",
      "         A ∩ (B ∪ C): {0, 2, 3, 4, 5} = (A ∩ B) ∪ (A ∩ C): {0, 2, 3, 4, 5}\n",
      "A ∪ (B ∩ C): {0, 1, 2, 3, 4, 5, 6, 8} = (A ∪ B) ∩ (A ∪ C): {0, 1, 2, 3, 4, 5, 6, 8}\n",
      "\n",
      "De Morgan's Law\n",
      "\n",
      "      ¬(A ∪ B): {1, 4, 5, 6, 7, 8, 9} = ¬A ∩ ¬B: {1, 4, 5, 6, 7, 8, 9}\n",
      "                        ¬(A ∩ B): {9} = ¬A ∪ ¬B: {9}\n",
      "\n",
      "\n"
     ]
    },
    {
     "data": {
      "image/png": "[encoded data removed]",
      "text/plain": [
       "<Figure size 640x480 with 1 Axes>"
      ]
     },
     "metadata": {},
     "output_type": "display_data"
    }
   ],
   "source": [
    "from matplotlib_venn import venn3, venn2, venn3_circles\n",
    "import numpy as np\n",
    "import matplotlib.pyplot as plt\n",
    "\n",
    "universal_array = np.array([0, 1, 2, 3, 4, 5, 6, 7, 8, 9])\n",
    "\n",
    "A = np.array([1, 2, 3, 4, 5, 0])\n",
    "B = np.array([2, 3, 6, 7, 8, 0])\n",
    "C = np.array([4, 5, 6, 8, 9, 0])\n",
    "\n",
    "universal_set = set(universal_array)\n",
    "\n",
    "Set_A = set(A)\n",
    "Set_B = set(B)\n",
    "Set_C = set(C)\n",
    "\n",
    "not_A = universal_set - Set_A\n",
    "not_B = universal_set - Set_B\n",
    "\n",
    "Set_A_BC = set(Set_A.intersection(Set_B.union(Set_C)))\n",
    "Set_AB_AC = set((Set_A.intersection(Set_B)).union(Set_A.intersection(Set_C)))\n",
    "\n",
    "set_a_bc = Set_A.union(Set_B.intersection(Set_C))\n",
    "set_ab_ac = (Set_A.union(Set_B).intersection(Set_A.union(Set_C)))\n",
    "\n",
    "demorgan1_lhs = universal_set - (Set_A.intersection(Set_B))\n",
    "demorgan1_rhs = not_A.union(not_B)\n",
    "\n",
    "demorgan2_lhs = universal_set - (Set_A.union(Set_B))\n",
    "demorgan2_rhs = not_A.intersection(not_B)\n",
    "\n",
    "print('Distributive Law\\n')\n",
    "print(f\"         A ∩ (B ∪ C): {Set_A_BC} = (A ∩ B) ∪ (A ∩ C): {Set_AB_AC}\")\n",
    "print(f\"A ∪ (B ∩ C): {set_a_bc} = (A ∪ B) ∩ (A ∪ C): {set_ab_ac}\\n\")\n",
    "\n",
    "print(\"De Morgan's Law\\n\")\n",
    "print(f'      ¬(A ∪ B): {demorgan1_lhs} = ¬A ∩ ¬B: {demorgan1_rhs}')\n",
    "print(f'                        ¬(A ∩ B): {demorgan2_lhs} = ¬A ∪ ¬B: {demorgan2_rhs}\\n\\n')\n",
    "\n",
    "venn = venn3([Set_A, Set_B, Set_C], ('A', 'B', 'C'))\n",
    "plt.show(venn)"
   ]
  },
  {
   "cell_type": "markdown",
   "metadata": {
    "id": "EjNqRSaDwBu1"
   },
   "source": [
    "## Question 3: Union and Intersection of Students\n",
    "For below code:\n",
    "1. The union of all sets of students present across the three subjects.\n",
    "2. The intersection of all sets of students present across the three subjects.\n",
    "\n",
    "```python\n",
    "import pandas as pd\n",
    "# Dictionary of marks\n",
    "marks = {\n",
    "    \"Math\": {\"Alice\": 85, \"Bob\": 90, \"Charlie\": 78},\n",
    "    \"Physics\": {\"Bob\": 88, \"Charlie\": 92, \"David\": 75},\n",
    "    \"Chemistry\": {\"Alice\": 82, \"Charlie\": 80, \"Eve\": 91},\n",
    "}\n",
    "\n",
    "\n",
    "# Convert the dictionary to a DataFrame\n",
    "df = pd.DataFrame(marks).T\n",
    "```"
   ]
  },
  {
   "cell_type": "code",
   "execution_count": 34,
   "metadata": {},
   "outputs": [
    {
     "name": "stdout",
     "output_type": "stream",
     "text": [
      "Union of students across all subjects: {'David', 'Alice', 'Eve', 'Charlie', 'Bob'}\n",
      "Intersection of students across all subjects: {'Charlie'}\n"
     ]
    }
   ],
   "source": [
    "import pandas as pd\n",
    "\n",
    "# Dictionary of marks\n",
    "marks = {\n",
    "    \"Math\": {\"Alice\": 85, \"Bob\": 90, \"Charlie\": 78},\n",
    "    \"Physics\": {\"Bob\": 88, \"Charlie\": 92, \"David\": 75},\n",
    "    \"Chemistry\": {\"Alice\": 82, \"Charlie\": 80, \"Eve\": 91},\n",
    "}\n",
    "\n",
    "df = pd.DataFrame(marks).T\n",
    "\n",
    "union_students = set(df.columns)\n",
    "intersection_students = set(df.dropna(axis=1).columns)\n",
    "\n",
    "print(\"Union of students across all subjects:\", union_students)\n",
    "print(\"Intersection of students across all subjects:\", intersection_students)"
   ]
  },
  {
   "cell_type": "markdown",
   "metadata": {
    "id": "aox2q9Ba3Ml4"
   },
   "source": [
    "# Question 4\n",
    "Implement a Python function to compute the cartesian product of two sets A and B without using Python's built-in functions or libraries like itertools. The function should return the cartesian product as a set of ordered pairs (tuples).\n"
   ]
  },
  {
   "cell_type": "code",
   "execution_count": 36,
   "metadata": {
    "id": "MndWfSCQ3QyR"
   },
   "outputs": [
    {
     "name": "stdout",
     "output_type": "stream",
     "text": [
      "Cartesian Product: {(2, 'x'), (3, 'x'), (1, 'x'), (2, 'y'), (3, 'y'), (1, 'y')}\n"
     ]
    }
   ],
   "source": [
    "def cartesian_product(A, B):\n",
    "  \n",
    "    result = set()\n",
    "    for a in A:\n",
    "        for b in B:\n",
    "            result.add((a, b))\n",
    "    return result\n",
    "\n",
    "A = {1, 2, 3}\n",
    "B = {'x', 'y'}\n",
    "\n",
    "cartesian_result = cartesian_product(A, B)\n",
    "\n",
    "print(\"Cartesian Product:\", cartesian_result)"
   ]
  }
 ],
 "metadata": {
  "colab": {
   "provenance": []
  },
  "kernelspec": {
   "display_name": "Python [conda env:base] *",
   "language": "python",
   "name": "conda-base-py"
  }
 },
 "nbformat": 4,
 "nbformat_minor": 4
}
