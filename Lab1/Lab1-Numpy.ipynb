{
 "cells": [
  {
   "cell_type": "code",
   "execution_count": 55,
   "metadata": {
    "id": "IZLwNgdS-ndV"
   },
   "outputs": [],
   "source": [
    "import numpy as np"
   ]
  },
  {
   "cell_type": "markdown",
   "metadata": {
    "id": "AnUxKd3FsdSJ"
   },
   "source": [
    "\n",
    "# **Creating Arrays**\n",
    "\n",
    "#### 1. Create a 1D array with 20 random integers between 1 and 100.\n",
    "**Hint:** Use the `np.random.randint()` function, specifying the range and size.\n",
    "#### 2. Create a 5x5 matrix where all the border elements are 1, and the inside elements are 0.\n",
    "#### 3. Create a diagonal matrix with values `[1, 2, 3, 4]` on the diagonal.\n",
    "#### 4. Create an array of shape (3, 3) where each row contains numbers from 1 to 3.\n",
    "**Hint:** Use `np.tile()` to repeat arrays along rows or columns.\n",
    "#### 5. Create a 1D array with alternating 0s and 1s of length 10.\n",
    "#### 6. Create a 3x3 matrix with random integers between 10 and 20, and set the datatype to `int32`."
   ]
  },
  {
   "cell_type": "code",
   "execution_count": 56,
   "metadata": {},
   "outputs": [
    {
     "name": "stdout",
     "output_type": "stream",
     "text": [
      "[ 60   4  80  76  57  46   9  31  44   7  40  31  99  10 100  79  78  21\n",
      "  82   5]\n"
     ]
    }
   ],
   "source": [
    "arr = np.random.randint(1,101,20)\n",
    "print(arr)"
   ]
  },
  {
   "cell_type": "code",
   "execution_count": 57,
   "metadata": {},
   "outputs": [
    {
     "name": "stdout",
     "output_type": "stream",
     "text": [
      "[[1. 1. 1. 1. 1.]\n",
      " [1. 0. 0. 0. 1.]\n",
      " [1. 0. 0. 0. 1.]\n",
      " [1. 0. 0. 0. 1.]\n",
      " [1. 1. 1. 1. 1.]]\n"
     ]
    }
   ],
   "source": [
    "arr = np.zeros((3,3))\n",
    "arr1s = np.array([1,1,1])\n",
    "arr = np.column_stack((arr1s,arr))\n",
    "arr = np.column_stack((arr,arr1s))\n",
    "arr = np.concatenate((arr,np.array([[1,1,1,1,1]])))\n",
    "arr = np.concatenate((np.array([[1,1,1,1,1]]),arr))\n",
    "print(arr)\n"
   ]
  },
  {
   "cell_type": "code",
   "execution_count": 58,
   "metadata": {},
   "outputs": [
    {
     "data": {
      "text/plain": [
       "array([[1, 0, 0, 0],\n",
       "       [0, 2, 0, 0],\n",
       "       [0, 0, 3, 0],\n",
       "       [0, 0, 0, 4]])"
      ]
     },
     "execution_count": 58,
     "metadata": {},
     "output_type": "execute_result"
    }
   ],
   "source": [
    "np.diag([1,2,3,4])"
   ]
  },
  {
   "cell_type": "code",
   "execution_count": 59,
   "metadata": {},
   "outputs": [
    {
     "data": {
      "text/plain": [
       "array([[1, 2, 3],\n",
       "       [1, 2, 3],\n",
       "       [1, 2, 3]])"
      ]
     },
     "execution_count": 59,
     "metadata": {},
     "output_type": "execute_result"
    }
   ],
   "source": [
    "np.tile([1,2,3],(3,1))"
   ]
  },
  {
   "cell_type": "code",
   "execution_count": 60,
   "metadata": {},
   "outputs": [
    {
     "name": "stdout",
     "output_type": "stream",
     "text": [
      "[1 0 1 0 1 0 1 0 1 0]\n"
     ]
    }
   ],
   "source": [
    "arr = np.zeros(10,dtype=np.int32)\n",
    "arr[::2] = 1\n",
    "print(arr)"
   ]
  },
  {
   "cell_type": "code",
   "execution_count": 61,
   "metadata": {},
   "outputs": [
    {
     "data": {
      "text/plain": [
       "array([[13, 10, 15],\n",
       "       [12, 19, 13],\n",
       "       [10, 17, 11]], dtype=int32)"
      ]
     },
     "execution_count": 61,
     "metadata": {},
     "output_type": "execute_result"
    }
   ],
   "source": [
    "np.random.randint(10,21,(3,3),dtype=np.int32)"
   ]
  },
  {
   "cell_type": "markdown",
   "metadata": {
    "id": "DkYcM2eukdxR"
   },
   "source": [
    "# **Array Attributes**\n",
    "\n",
    "####1. Create a NumPy array of shape (4, 5) filled with random integers between 1 and 10. Now use an appropriate attribute of an array and find the following:\n",
    "\n",
    "  1. shape of the array\n",
    "  2. size of the array\n",
    "  3. number of dimensions\n",
    "  4. data type\n",
    "\n",
    "####2. Write a Python function that takes an array as input and returns the number of dimensions (ndim) of the array.\n",
    "Test the function with the following arrays:\n",
    "\n",
    "  1. A 1D array with 5 elements.\n",
    "  2. A 2D array of size (3x4).\n",
    "  3. A 3D array of size (2x3x4).\n",
    "\n",
    "\n",
    "####3. Create a NumPy array with the elements between 1 to 100 and use the dtype attribute to find out the data type of the elements. Modify the program to create arrays with elements of type float and string, and observe the changes in dtype.\n",
    "\n",
    "####4. Write a Python function that:\n",
    "  1. Creates a 6×3 array of integers using NumPy.\n",
    "  2. Prints the shape of the array using the shape attribute.\n",
    "  3. Reshapes the array to 3×6 and prints the new shape.\n",
    "\n",
    "\n",
    "\n",
    "####5. Write a program to:\n",
    "  1. Create an array of any size with all elements being 0 and use the appropriate attribute to print the size (in bytes) of each element in the array.\n",
    "  2. Create an array of any size with elements between 1 to 10 and print the size.\n",
    "  3. Create another array with floating-point numbers of any size and observe how the size changes.\n",
    "\n"
   ]
  },
  {
   "cell_type": "code",
   "execution_count": 62,
   "metadata": {},
   "outputs": [
    {
     "name": "stdout",
     "output_type": "stream",
     "text": [
      "(4, 5)\n",
      "20\n",
      "2\n",
      "int64\n"
     ]
    }
   ],
   "source": [
    "arr = np.random.randint(1,11,(4,5))\n",
    "print(arr.shape)\n",
    "print(arr.size)\n",
    "print(arr.ndim)\n",
    "print(arr.dtype)"
   ]
  },
  {
   "cell_type": "code",
   "execution_count": 63,
   "metadata": {},
   "outputs": [
    {
     "name": "stdout",
     "output_type": "stream",
     "text": [
      "1\n",
      "2\n",
      "3\n"
     ]
    }
   ],
   "source": [
    "def returnDim(arr):\n",
    "    return arr.ndim\n",
    "print(returnDim(np.array([1,2,3])))\n",
    "print(returnDim(np.array([[1,2,3],[4,5,6]])))\n",
    "print(returnDim(np.array([[[1,2,3]]])))"
   ]
  },
  {
   "cell_type": "code",
   "execution_count": 64,
   "metadata": {
    "scrolled": true
   },
   "outputs": [
    {
     "name": "stdout",
     "output_type": "stream",
     "text": [
      "float64\n",
      "[44.  7. 99. 63. 69. 77.  3. 33. 15.  2. 83. 47. 98. 21. 46. 30. 83.  8.\n",
      " 10. 52. 46. 66. 96. 87. 73. 93. 51. 24. 91. 87. 39. 94. 94. 74. 49. 69.\n",
      " 58. 32. 17. 78. 67. 42. 89.  9. 75. 99. 57. 94.  7. 83.]\n",
      "<U32\n",
      "['44.0' '7.0' '99.0' '63.0' '69.0' '77.0' '3.0' '33.0' '15.0' '2.0' '83.0'\n",
      " '47.0' '98.0' '21.0' '46.0' '30.0' '83.0' '8.0' '10.0' '52.0' '46.0'\n",
      " '66.0' '96.0' '87.0' '73.0' '93.0' '51.0' '24.0' '91.0' '87.0' '39.0'\n",
      " '94.0' '94.0' '74.0' '49.0' '69.0' '58.0' '32.0' '17.0' '78.0' '67.0'\n",
      " '42.0' '89.0' '9.0' '75.0' '99.0' '57.0' '94.0' '7.0' '83.0']\n"
     ]
    }
   ],
   "source": [
    "arr = np.random.randint(1,101,50)\n",
    "arr = arr.astype(\"float\")\n",
    "print(arr.dtype)\n",
    "print(arr)\n",
    "arr = arr.astype(\"str\")\n",
    "print(arr.dtype)\n",
    "print(arr)"
   ]
  },
  {
   "cell_type": "code",
   "execution_count": 65,
   "metadata": {},
   "outputs": [
    {
     "name": "stdout",
     "output_type": "stream",
     "text": [
      "(6, 3)\n",
      "(3, 6)\n"
     ]
    }
   ],
   "source": [
    "arr = np.random.randint(1,11,(6,3))\n",
    "print(arr.shape)\n",
    "arr = np.reshape(arr,(3,6))\n",
    "print(arr.shape)"
   ]
  },
  {
   "cell_type": "code",
   "execution_count": 66,
   "metadata": {},
   "outputs": [
    {
     "name": "stdout",
     "output_type": "stream",
     "text": [
      "8\n",
      "8\n",
      "8\n"
     ]
    }
   ],
   "source": [
    "arr = np.zeros(10)\n",
    "print(arr.itemsize)\n",
    "arr = np.random.randint(1,11,10)\n",
    "print(arr.itemsize)\n",
    "arr = np.random.random(10)\n",
    "print(arr.itemsize)"
   ]
  },
  {
   "cell_type": "markdown",
   "metadata": {
    "id": "ItnxYBtVzYiL"
   },
   "source": [
    "# **Sorting and Partioning**\n",
    "\n",
    "####1. Given an array arr, sort the array in ascending order without modifying the original array. Print both the original and sorted arrays.(use np.sort())\n",
    "\n",
    "####2. You have arr = np.array([50, 30, 40, 20]) and names = np.array([\"A\", \"B\", \"C\", \"D\"]).\n",
    "Sort the arr values in ascending order and rearrange the names array accordingly.(use np.argsort() to get sorted indices and reorder names)\n",
    "\n",
    "####3. Write code to find the k smallest elements from the array arr. Print these elements in ascending order.(use np.partition())\n",
    "\n",
    "####4. Partition the array arr such that all elements smaller than a particular number(user input) appear before those greater than or equal to that number. Print the partitioned array.(use np.partition() to find the pivot value's index)\n",
    "\n",
    "####5. Sort each row of a 2D array arr in ascending order.(use np.sort() with axis parameter)\n",
    "\n",
    "####6. Print k largest elements of an array arr in descending order.(use np.partition() to find top k elements)\n",
    "\n",
    "####7. Given an array arr(containing possible negative values), sort the array in ascending order based on the absolute values of the elements. Print the sorted array.(use np.argsort() with a custom key for absolute values)\n",
    "\n",
    "####8. Given an array arr, sort only the elements greater than k in ascending order, keeping the other elements in their original positions.(create a mask to find elements greater than k, use np.sort() to sort them then reassign the sorted values back to their original indices in the array)"
   ]
  },
  {
   "cell_type": "code",
   "execution_count": 67,
   "metadata": {},
   "outputs": [
    {
     "name": "stdout",
     "output_type": "stream",
     "text": [
      "[1 1 1 3 4 4 2 2 2 4 7 4 8 4 3 9]\n",
      "[1 1 1 2 2 2 3 3 4 4 4 4 4 7 8 9]\n"
     ]
    }
   ],
   "source": [
    "arr = np.array([1,1,1,3,4,4,2,2,2,4,7,4,8,4,3,9])\n",
    "print(arr)\n",
    "print(np.sort(arr))"
   ]
  },
  {
   "cell_type": "code",
   "execution_count": 68,
   "metadata": {},
   "outputs": [
    {
     "name": "stdout",
     "output_type": "stream",
     "text": [
      "['D' 'B' 'C' 'A']\n"
     ]
    }
   ],
   "source": [
    "arr = np.array([50, 30, 40, 20])\n",
    "names = np.array([\"A\", \"B\", \"C\", \"D\"])\n",
    "print(names[np.argsort(arr)])"
   ]
  },
  {
   "cell_type": "code",
   "execution_count": 69,
   "metadata": {},
   "outputs": [],
   "source": [
    "# arr = np.array([1,1,1,3,4,4,2,2,2,4,7,4,8,4,3,9])\n",
    "# print(np.partition(arr,8))\n",
    "# np.partition?"
   ]
  },
  {
   "cell_type": "code",
   "execution_count": 70,
   "metadata": {},
   "outputs": [
    {
     "name": "stdout",
     "output_type": "stream",
     "text": [
      "[[2 3 4 6]\n",
      " [0 2 8 9]]\n"
     ]
    }
   ],
   "source": [
    "arr = np.array([[3,4,2,6],[0,8,9,2]])\n",
    "print(np.sort(arr,axis=1))"
   ]
  },
  {
   "cell_type": "code",
   "execution_count": 71,
   "metadata": {},
   "outputs": [
    {
     "name": "stdout",
     "output_type": "stream",
     "text": [
      "[  2   2   3  -4   7   9 -10  12]\n"
     ]
    }
   ],
   "source": [
    "arr = np.array([-4,2,2,7,3,9,-10,12])\n",
    "print(arr[np.argsort(np.abs(arr))])"
   ]
  },
  {
   "cell_type": "code",
   "execution_count": 72,
   "metadata": {},
   "outputs": [
    {
     "name": "stdout",
     "output_type": "stream",
     "text": [
      "[1 1 1 3 4 4 2 2 2 4 7 4 8 4 3 9]\n"
     ]
    }
   ],
   "source": [
    "arr = np.array([1,1,1,3,4,4,2,2,2,4,7,4,8,4,3,9])\n",
    "arr[arr>4] = np.sort(arr[arr>4])\n",
    "print(arr)"
   ]
  },
  {
   "cell_type": "markdown",
   "metadata": {
    "id": "gPghNT4V8CFw"
   },
   "source": [
    "# **Indexing and slicing**"
   ]
  },
  {
   "cell_type": "markdown",
   "metadata": {
    "id": "O9CJs-Un8X3_"
   },
   "source": [
    "#### 1. 2D Array Indexing\n",
    "Consider the following 2D array:\n",
    "`arr_2d = np.array([[5, 10, 15], [20, 25, 30], [35, 40, 45]])`\n",
    "- Access the element at row index 1 and column index 2.\n",
    "- Extract the first row.\n",
    "- Extract the last column."
   ]
  },
  {
   "cell_type": "code",
   "execution_count": 73,
   "metadata": {},
   "outputs": [
    {
     "name": "stdout",
     "output_type": "stream",
     "text": [
      "30\n",
      "[ 5 10 15]\n",
      "[[15]\n",
      " [30]\n",
      " [45]]\n"
     ]
    }
   ],
   "source": [
    "arr_2d = np.array([[5, 10, 15], [20, 25, 30], [35, 40, 45]])\n",
    "print(arr_2d[1,2])\n",
    "print(arr_2d[0])\n",
    "print(arr_2d[::,-1::])"
   ]
  },
  {
   "cell_type": "markdown",
   "metadata": {
    "id": "aXGnlXAo8ai8"
   },
   "source": [
    "#### 2. Boolean Indexing\n",
    "Given an array `arr = np.array([2, 5, 8, 11, 14, 17, 20])`, use boolean indexing to:\n",
    "- Extract all values greater than 10.\n",
    "- Replace all values greater than 15 with -1."
   ]
  },
  {
   "cell_type": "code",
   "execution_count": 74,
   "metadata": {},
   "outputs": [
    {
     "name": "stdout",
     "output_type": "stream",
     "text": [
      "[11 14 17 20]\n",
      "[ 2  5  8 11 14 -1 -1]\n"
     ]
    }
   ],
   "source": [
    "arr = np.array([2, 5, 8, 11, 14, 17, 20])\n",
    "print(arr[arr>10])\n",
    "arr[arr>15] = -1\n",
    "print(arr)"
   ]
  },
  {
   "cell_type": "markdown",
   "metadata": {
    "id": "cSMQOL_78dGJ"
   },
   "source": [
    "#### 3. Fancy Indexing\n",
    "Using the 2D array `arr_2d = np.array([[5, 10, 15], [20, 25, 30], [35, 40, 45]])`, write code to:\n",
    "\n",
    "- Select the elements at positions (0,2), (1,1), and (2,0).\n",
    "- Use fancy indexing to create a submatrix with rows 0 and 2, and columns 1 and 2.\n",
    "\n",
    "- **Hint:**\n",
    " - For 1st part, use arrays of row and column indices\n",
    " - For 2nd part, you can create a submatrix using fancy indexing by using np.newaxis to match the dimensions\n"
   ]
  },
  {
   "cell_type": "code",
   "execution_count": 75,
   "metadata": {},
   "outputs": [
    {
     "name": "stdout",
     "output_type": "stream",
     "text": [
      "15 25 35\n",
      "[[10 15]\n",
      " [40 45]]\n"
     ]
    }
   ],
   "source": [
    "arr_2d = np.array([[5, 10, 15], [20, 25, 30], [35, 40, 45]])\n",
    "print(arr_2d[0,2],arr_2d[1,1],arr_2d[2,0])\n",
    "print(arr_2d[0::2,1::])"
   ]
  },
  {
   "cell_type": "markdown",
   "metadata": {
    "id": "neMikU6N8fdJ"
   },
   "source": [
    "#### 4. Slicing 1D array\n",
    "Given the array `arr = np.array([1, 3, 5, 7, 9, 11, 13, 15])`, write code to:\n",
    "\n",
    "- Extract the first 4 elements.\n",
    "- Extract every second element from the entire array.\n",
    "- Extract elements from index 2 to the end, stepping by 2."
   ]
  },
  {
   "cell_type": "code",
   "execution_count": 76,
   "metadata": {},
   "outputs": [
    {
     "name": "stdout",
     "output_type": "stream",
     "text": [
      "[1 3 5 7]\n",
      "[ 1  5  9 13]\n",
      "[ 5  9 13]\n"
     ]
    }
   ],
   "source": [
    "arr = np.array([1, 3, 5, 7, 9, 11, 13, 15])\n",
    "print(arr[0:4])\n",
    "print(arr[::2])\n",
    "print(arr[2::2])"
   ]
  },
  {
   "cell_type": "markdown",
   "metadata": {
    "id": "QnTy4Zj98h4I"
   },
   "source": [
    "#### 5. Slicing a 2D Array\n",
    "Given the following 2D array:\n",
    "`arr_2d = np.array([[10, 20, 30, 40], [50, 60, 70, 80], [90, 100, 110, 120]])`\n",
    "- Slice and print the last two columns of 1st row.\n",
    "- Slice and print the last row, reversed."
   ]
  },
  {
   "cell_type": "code",
   "execution_count": 77,
   "metadata": {},
   "outputs": [
    {
     "name": "stdout",
     "output_type": "stream",
     "text": [
      "[30 40]\n",
      "[40 30 20 10]\n"
     ]
    }
   ],
   "source": [
    "arr_2d = np.array([[10, 20, 30, 40], [50, 60, 70, 80], [90, 100, 110, 120]])\n",
    "print(arr_2d[0,2::])\n",
    "row = np.copy(arr_2d[0])\n",
    "print(row[::-1])"
   ]
  },
  {
   "cell_type": "markdown",
   "metadata": {
    "id": "DWgodK9V8kVv"
   },
   "source": [
    "## 6. Handling Out-of-Range Indices in Slicing vs. Indexing\n",
    "Given the array:\n",
    "`arr = np.array([10, 20, 30, 40, 50])`\n",
    "\n",
    "\n",
    "- What will be the output of the following slicing operations? Explain why they work, even though some indices are out of range.\n",
    " - print(arr[2:10])  \n",
    " - print(arr[-10:3])    \n",
    "\n",
    "- Compare the behavior of slicing to accessing a single element with an out-of-range index (e.g., arr[10]). Why does slicing not raise an error in these cases, but indexing does?"
   ]
  },
  {
   "cell_type": "code",
   "execution_count": 78,
   "metadata": {},
   "outputs": [
    {
     "name": "stdout",
     "output_type": "stream",
     "text": [
      "[30 40 50]\n",
      "[10 20 30]\n"
     ]
    }
   ],
   "source": [
    "arr = np.array([10, 20, 30, 40, 50])\n",
    "print(arr[2:10])\n",
    "print(arr[-10:3])\n",
    "# https://docs.python.org/2/library/stdtypes.html#sequence-types-str-unicode-list-tuple-bytearray-buffer-xrange\n",
    "# slicing works because when either i or j is greater than len(arr) it uses len(arr) where i,j are arr[i:j:k] and k is step\n",
    "\n",
    "# print(arr[10]) but this gives an error as there is nothing in that position"
   ]
  },
  {
   "cell_type": "markdown",
   "metadata": {
    "id": "xDOOiJe7r_Vx"
   },
   "source": [
    "#### 7.  Work with an Audio File\n",
    "\n",
    "Download the audio file from the following link: Simple Logo - Pixabay. Load the audio file using pydub and complete the following tasks:\n",
    "\n",
    "- Extract the first second of the audio and plot its waveform.\n",
    "   - Hint: Use the frame rate to calculate how many samples are in 1 second, and use slicing to extract this part.\n",
    "\n",
    "-   Extract the last second of the audio and plot its waveform.\n",
    "  \n",
    "\n",
    "-  Combine the samples from the first second and the last second into a new array and plot the combined waveform.\n",
    " - Hint: Use NumPy’s np.concatenate() function to merge the two slices."
   ]
  },
  {
   "cell_type": "code",
   "execution_count": 79,
   "metadata": {
    "scrolled": true
   },
   "outputs": [
    {
     "name": "stdout",
     "output_type": "stream",
     "text": [
      "Plot for 1st second\n"
     ]
    },
    {
     "data": {
      "text/plain": [
       "Text(0, 0.5, 'Amplitude')"
      ]
     },
     "execution_count": 79,
     "metadata": {},
     "output_type": "execute_result"
    },
    {
     "data": {
      "image/png": "[encoded data removed]",
      "text/plain": [
       "<Figure size 640x480 with 1 Axes>"
      ]
     },
     "metadata": {},
     "output_type": "display_data"
    }
   ],
   "source": [
    "from email.mime import audio\n",
    "from pydub import AudioSegment\n",
    "import matplotlib.pyplot as plt\n",
    "audio_path = './Codes/PSDV LABS/Lab1/song.mp3'\n",
    "audio = AudioSegment.from_file(audio_path)\n",
    "audio_arr = np.array(audio.get_array_of_samples())\n",
    "time = np.linspace(0, 1, num=audio.frame_rate)\n",
    "print(\"Plot for 1st second\")\n",
    "audio_arr1stSecond = audio_arr[:audio.frame_rate]\n",
    "plt.plot(time,audio_arr1stSecond)\n",
    "plt.xlabel('Time')\n",
    "plt.ylabel('Amplitude')\n",
    "\n"
   ]
  },
  {
   "cell_type": "code",
   "execution_count": 80,
   "metadata": {},
   "outputs": [
    {
     "name": "stdout",
     "output_type": "stream",
     "text": [
      "Plot for last 1 second\n"
     ]
    },
    {
     "data": {
      "text/plain": [
       "Text(0, 0.5, 'Amplitude')"
      ]
     },
     "execution_count": 80,
     "metadata": {},
     "output_type": "execute_result"
    },
    {
     "data": {
      "image/png": "[encoded data removed]",
      "text/plain": [
       "<Figure size 640x480 with 1 Axes>"
      ]
     },
     "metadata": {},
     "output_type": "display_data"
    }
   ],
   "source": [
    "print(\"Plot for last 1 second\")\n",
    "audio_arrLast1sec = audio_arr[-1*audio.frame_rate::]\n",
    "plt.plot(time,audio_arrLast1sec)\n",
    "plt.xlabel('Time')\n",
    "plt.ylabel('Amplitude')"
   ]
  },
  {
   "cell_type": "code",
   "execution_count": 81,
   "metadata": {},
   "outputs": [
    {
     "name": "stdout",
     "output_type": "stream",
     "text": [
      "Plot for 1st and last second\n"
     ]
    },
    {
     "data": {
      "text/plain": [
       "Text(0, 0.5, 'Amplitude')"
      ]
     },
     "execution_count": 81,
     "metadata": {},
     "output_type": "execute_result"
    },
    {
     "data": {
      "image/png": "[encoded data removed]",
      "text/plain": [
       "<Figure size 640x480 with 1 Axes>"
      ]
     },
     "metadata": {},
     "output_type": "display_data"
    }
   ],
   "source": [
    "finalConcaAudioArr = np.concatenate((audio_arr1stSecond,audio_arrLast1sec))\n",
    "time2s = np.linspace(0, 2, num=2*audio.frame_rate)\n",
    "print(\"Plot for 1st and last second\")\n",
    "plt.plot(time2s,finalConcaAudioArr)\n",
    "plt.xlabel('Time')\n",
    "plt.ylabel('Amplitude')"
   ]
  },
  {
   "cell_type": "markdown",
   "metadata": {
    "id": "bRFENqbOGX1X"
   },
   "source": [
    "# **Reshaping in NumPy**\n"
   ]
  },
  {
   "cell_type": "markdown",
   "metadata": {
    "id": "Gv2cCyxAdS3Q"
   },
   "source": [
    "####1. Create a 2D array of shape (3, 5). Flatten it into a 1D array and then reshape it back into a (5, 3) array.\n",
    "\n",
    "####2. Create a 1D array\n",
    "```\n",
    "arr = np.array([1, 2, 3, 4, 5])\n",
    "```\n",
    "####Reshape arr into (5,1), then convert to (5,) and then convert it into (1,5).\n",
    "\n",
    "\n",
    "####3. Create a 1D NumPy array with values ranging from 1 to 100. Reshape it into a (10, 10) matrix. Apply '.ravel()' and '.flatten()' on the matrix and modify the original matrix. Compare the outputs of both methods and explain the difference in memory sharing.\n",
    "\n",
    "\n",
    "####4. Generate a 5x5 NumPy matrix representing pixel intensities from an image. Use slicing to extract the central 3x3 section of the matrix and flatten it. How does reshaping impact the spatial relationships of the pixels?\n",
    "\n",
    "\n",
    "####5. Create a 3-channel RGB image as a NumPy array of shape (3, 4, 4) with random integer values between 0 and 255. Flatten the image using '.reshape()' and reshape it back to its original shape. Explain the order of pixel data stored and how reshaping affects the channel structure.\n",
    "\n"
   ]
  },
  {
   "cell_type": "code",
   "execution_count": 82,
   "metadata": {},
   "outputs": [
    {
     "name": "stdout",
     "output_type": "stream",
     "text": [
      "[  1   2   3   4   5   6   7   8   9  10  11  12  13  14  15  16  17  18\n",
      "  19  20  21  22  23  24  25  26  27  28  29  30  31  32  33  34  35  36\n",
      "  37  38  39  40  41  42  43  44  45  46  47  48  49  50  51  52  53  54\n",
      "  55  56  57  58  59  60  61  62  63  64  65  66  67  68  69  70  71  72\n",
      "  73  74  75  76  77  78  79  80  81  82  83  84  85  86  87  88  89  90\n",
      "  91  92  93  94  95  96  97  98  99 100]\n",
      "[  1   2   3   4   5   6   7   8   9  10  11  12  13  14  15  16  17  18\n",
      "  19  20  21  22  23  24  25  26  27  28  29  30  31  32  33  34  35  36\n",
      "  37  38  39  40  41  42  43  44  45  46  47  48  49  50  51  52  53  54\n",
      "  55  56  57  58  59  60  61  62  63  64  65  66  67  68  69  70  71  72\n",
      "  73  74  75  76  77  78  79  80  81  82  83  84  85  86  87  88  89  90\n",
      "  91  92  93  94  95  96  97  98  99 100]\n"
     ]
    }
   ],
   "source": [
    "arr = np.arange(1,101)\n",
    "arr = arr.reshape((10,10))\n",
    "print(np.ravel(arr))\n",
    "print(arr.flatten())"
   ]
  },
  {
   "cell_type": "markdown",
   "metadata": {
    "id": "6N9gUypIpV_H"
   },
   "source": [
    "# **Universal Functions**\n",
    "\n",
    "Q1) Given an array x = [1, 4, 9, 16, 25], compute the square root of each element in the array and print the result.\n",
    "\n",
    "Q2) Create an array angles =[0, $\\frac{\\pi}{2}$, $\\pi$, $\\frac{3\\pi}{2}$]\n",
    ", calculate the sine of each angle and print the result.\n",
    "\n",
    "\n",
    "\n",
    "Q3) Given two arrays a =[True, False, True] and b = [False, False, True], perform an element-wise logical AND operation and print the result.\n",
    "\n",
    "Q4) Create two arrays x = [1, 2, 3, 4] and y = [2, 2, 3, 5], perform an element-wise comparison (x < y) and print the result.\n",
    "\n",
    "Q5) Create an array x =[-2, -1, 0, 1, 2, 3, 4], compute the following element-wise operation:\n",
    "\n",
    "* If an element is negative, square it.\n",
    "* If an element is non-negative, compute its exponential.\n",
    "Print the resulting array."
   ]
  },
  {
   "cell_type": "code",
   "execution_count": 83,
   "metadata": {},
   "outputs": [
    {
     "name": "stdout",
     "output_type": "stream",
     "text": [
      "[1. 2. 3. 4. 5.]\n"
     ]
    }
   ],
   "source": [
    "arr = np.array([1,4,9,16,25])\n",
    "arr = np.sqrt(arr)\n",
    "print(arr)"
   ]
  },
  {
   "cell_type": "code",
   "execution_count": 84,
   "metadata": {},
   "outputs": [
    {
     "name": "stdout",
     "output_type": "stream",
     "text": [
      "[ 0.0000000e+00  1.0000000e+00  1.2246468e-16 -1.0000000e+00]\n"
     ]
    }
   ],
   "source": [
    "import math\n",
    "arr = np.array([0,math.pi/2,math.pi,math.pi*1.5])\n",
    "arr = np.sin(arr)\n",
    "print(arr)"
   ]
  },
  {
   "cell_type": "code",
   "execution_count": 85,
   "metadata": {},
   "outputs": [
    {
     "name": "stdout",
     "output_type": "stream",
     "text": [
      "[False False  True]\n"
     ]
    }
   ],
   "source": [
    "a = np.array([True,False,True])\n",
    "b = np.array([False,False,True])\n",
    "print(a&b)"
   ]
  },
  {
   "cell_type": "code",
   "execution_count": 86,
   "metadata": {},
   "outputs": [
    {
     "name": "stdout",
     "output_type": "stream",
     "text": [
      "[ True False False  True]\n"
     ]
    }
   ],
   "source": [
    "x = np.array([1,2,3,4])\n",
    "y = np.array([2,2,3,5])\n",
    "print(y>x)"
   ]
  },
  {
   "cell_type": "code",
   "execution_count": 87,
   "metadata": {},
   "outputs": [
    {
     "name": "stdout",
     "output_type": "stream",
     "text": [
      "[ 4  1  1  2  7 20 54]\n"
     ]
    }
   ],
   "source": [
    "x = np.array([-2,-1,0,1,2,3,4])\n",
    "mask = x<0\n",
    "x[mask] = np.square(x[mask])\n",
    "x[~mask] = np.exp(x[~mask])\n",
    "print(x)"
   ]
  },
  {
   "cell_type": "markdown",
   "metadata": {
    "id": "gpcuUfrjZiBa",
    "jp-MarkdownHeadingCollapsed": true
   },
   "source": [
    "# **Aggregations**\n",
    "\n",
    "####1. Generate a random array of size 10.\n",
    " calculate the following:\n",
    "- Print the array\n",
    "- The sum of all elements.\n",
    "- The mean of the array.\n",
    "- The standard deviation.\n",
    "- Find 5$*$Minimum -3$*$Maximum\n",
    "\n",
    "####2. Generate a 4x5 matrix with random integers between 1 and 50.\n",
    "- Print the matrix.\n",
    "- Compute the mean of all elements in the matrix.\n",
    "- Compute the sum of each row in the matrix.\n",
    "\n",
    "####3. Generate a random 3x3 matrix with random integers between 1 to 10\n",
    "- Find the minimum value in each column and store it in a separate list min.\n",
    "- Find the maximum value in each row and store it in a separate list max.\n",
    "- Find the value of minimum of list max - maximum of list min.\n",
    "\n",
    "####4. Given the array : data = np.array([15, 25, 35, 45, 55, 65]):\n",
    "- Find the minimum value.\n",
    "- Subtract this minimum value from all elements of the array and then calculate the mean of the resulting array.\n",
    "\n",
    "####5. Given the array : arr = np.array([3, 5, 7, 9, 11]):\n",
    "- Compute the cumulative sum of the elements.\n",
    "- Compute the cumulative product of the elements.\n",
    "\n",
    "####6. Imagine you have a dataset representing the scores of 4 students in 3 subjects:\n",
    "scores = np.array([[85, 92, 78], [88, 76, 95], [91, 89, 82], [75, 85, 88]])\n",
    "- Compute the average score for each student.\n",
    "- Compute the highest score in each subject.\n",
    "- Determine the overall average score for all students across all subjects."
   ]
  },
  {
   "cell_type": "code",
   "execution_count": 99,
   "metadata": {},
   "outputs": [
    {
     "name": "stdout",
     "output_type": "stream",
     "text": [
      "[10  7  3  6  6  1  8  9  6  3]\n",
      "59\n",
      "5.9\n",
      "2.7\n",
      "-25\n"
     ]
    }
   ],
   "source": [
    "arr = np.random.randint(1,11,10)\n",
    "print(arr)\n",
    "print(np.sum(arr))  \n",
    "print(np.mean(arr))\n",
    "print(np.std(arr))\n",
    "print(5*np.min(arr)-3*np.max(arr))"
   ]
  },
  {
   "cell_type": "code",
   "execution_count": 103,
   "metadata": {},
   "outputs": [
    {
     "name": "stdout",
     "output_type": "stream",
     "text": [
      "[[ 5 40 45 42 28]\n",
      " [29 17 20 37 45]\n",
      " [40 22 28 28 50]\n",
      " [ 6  9  6 32 33]]\n",
      "28.1\n",
      "[160 148 168  86]\n"
     ]
    }
   ],
   "source": [
    "arr = np.random.randint(1,51,(4,5))\n",
    "print(arr)\n",
    "print(np.mean(arr))\n",
    "print(np.sum(arr,axis=1))"
   ]
  },
  {
   "cell_type": "code",
   "execution_count": 107,
   "metadata": {},
   "outputs": [
    {
     "name": "stdout",
     "output_type": "stream",
     "text": [
      "[[10  2  4]\n",
      " [10  1  5]\n",
      " [ 6  5  4]]\n",
      "[4 4 1]\n"
     ]
    }
   ],
   "source": [
    "arr = np.random.randint(1,11,(3,3))\n",
    "print(arr)\n",
    "minarr = np.min(arr,axis=0)\n",
    "maxarr = np.max(arr,axis=0)\n",
    "print(maxarr-minarr)\n"
   ]
  },
  {
   "cell_type": "code",
   "execution_count": 110,
   "metadata": {},
   "outputs": [
    {
     "name": "stdout",
     "output_type": "stream",
     "text": [
      "[ 0 10 20 30 40 50]\n",
      "25.0\n"
     ]
    }
   ],
   "source": [
    "data = np.array([15, 25, 35, 45, 55, 65])\n",
    "minnum = np.min(data)\n",
    "data = data-minnum\n",
    "print(data)\n",
    "print(np.mean(data))"
   ]
  },
  {
   "cell_type": "code",
   "execution_count": 112,
   "metadata": {},
   "outputs": [
    {
     "name": "stdout",
     "output_type": "stream",
     "text": [
      "[ 3  8 15 24 35]\n",
      "[    3    15   105   945 10395]\n"
     ]
    }
   ],
   "source": [
    "arr = np.array([3,5,7,9,11])\n",
    "print(np.cumsum(arr))\n",
    "print(np.cumprod(arr))"
   ]
  },
  {
   "cell_type": "code",
   "execution_count": 115,
   "metadata": {},
   "outputs": [
    {
     "name": "stdout",
     "output_type": "stream",
     "text": [
      "[85.         86.33333333 87.33333333 82.66666667]\n",
      "[84.75 85.5  85.75]\n",
      "85.33333333333333\n"
     ]
    }
   ],
   "source": [
    "scores = np.array([[85, 92, 78], [88, 76, 95], [91, 89, 82], [75, 85, 88]])\n",
    "print(np.mean(scores,axis=1))\n",
    "print(np.mean(scores,axis=0))\n",
    "print(np.mean(scores))"
   ]
  },
  {
   "cell_type": "markdown",
   "metadata": {
    "id": "bXLxBAUL3cRt"
   },
   "source": [
    "# **Broadcasting in NumPy**\n",
    "\n",
    "\n",
    "\n",
    "####1. Given two arrays:\n",
    "\n",
    "A = np.array([[1, 2, 3], [4, 5, 6], [7, 8, 9]]) (shape: (3, 3))\n",
    "B = np.array([10, 20, 30]) (shape: (3,))\n",
    "Perform elementwise addition of A and B using broadcasting and print the result.\n",
    "\n",
    "What is the resulting shape?\n",
    "\n",
    "\n",
    "\n",
    "\n",
    "\n",
    "####2. Write a function check_broadcasting(shape1, shape2) that:\n",
    "\n",
    "Accepts two shapes as input and checks if they are broadcast-compatible.\n",
    "Use the function to test the following shape pairs:\n",
    "(3, 4) and (4,)\n",
    "(2, 1, 5) and (3, 5)\n",
    "(2, 3) and (2,)\n",
    "\n",
    "For each case:\n",
    "\n",
    "* State whether broadcasting is possible.\n",
    "\n",
    "* If possible, state the resulting shape of the operation\n",
    "\n",
    "####3. Create a 2D array A of shape (3, 5) with random integers between 1 and 10.\n",
    "Create a 1D array B of shape (5,) with random integers between 1 and 5.\n",
    "Use broadcasting to subtract B from each row of A and print the result.\n",
    "\n",
    "####4.  Create a 3D array A with shape (2, 4, 3) filled with random integers between 0 and 10.\n",
    "\n",
    "* Create an array B of shape (4, 3) containing a constant value of 5.\n",
    "* Use broadcasting to add B to each 2D array slice of A.\n",
    "* Print the result\n",
    "\n",
    "####5. : You are given a grayscale image of shape (32, 32), where each pixel value is an integer. You want to apply a scaling factor of 0.5 to all the pixel values using broadcasting.\n",
    "\n",
    "\n",
    "* Use broadcasting to scale the image by multiplying it with the scaling factor 0.5.\n",
    "* Verify that the pixel values of the image are halved by printing the scaled image.\n",
    "\n",
    "####6. Calculate the distance between an observation point and a set of code points (codes). The goal is to find the closest code to the observation by calculating the Euclidean distance between each code and the observation.\n",
    "\n",
    "* Given two arrays :\n",
    "\n",
    "codes = np.array([\n",
    "    [1.0, 2.0, 3.0],\n",
    "    [4.0, 5.0, 6.0],\n",
    "    [7.0, 8.0, 9.0],\n",
    "    [1.0, 1.0, 1.0],\n",
    "    [2.0, 3.0, 4.0]\n",
    "])\n",
    "\n",
    "\n",
    "observation = np.array([3.0, 3.0, 3.0])\n",
    "\n",
    "\n",
    "* Use broadcasting to calculate the squared Euclidean distance between the observation and each code.\n",
    "* Find and print the index of the closest code to the observation.\n",
    "* Print the distance between the observation and the closest code.\n",
    "\n",
    "**HINT : use np.argmin() to find the index of the closest code**\n",
    "\n",
    "\n"
   ]
  },
  {
   "cell_type": "code",
   "execution_count": null,
   "metadata": {},
   "outputs": [],
   "source": []
  },
  {
   "cell_type": "markdown",
   "metadata": {
    "id": "ehP-oE00BN3l"
   },
   "source": [
    "# Concatenation\n",
    "\n",
    "1. Write a program to vertically stack arrays using `np.vstack` and print the result: (Use any three 1D arrays) <br/>\n",
    "<br/>\n",
    "2. Write a program to horizontally stack arrays using `np.hstack`. Print the result: (Use any three 1D arrays) <br/>\n",
    "<br/>\n",
    "3. Given two 2D arrays of the same row size, horizontally stack them using `np.hstack` and print the result:<br/>\n",
    "`m = np.array([[2, 4], [3, 6]])`<br/>\n",
    "`n = np.array([[4, 8], [5, 10]])`<br/>\n",
    "<br/>\n",
    "4. Using `np.vstack`, stack the following arrays vertically and print the results:<br/>\n",
    "`a = np.array([11, 12, 13])`<br/>\n",
    "`b = np.array([[14, 15, 16], [17, 18, 19]])`<br/>\n",
    "<br/>\n",
    "5. Concatenate the following 2D arrays along different axes using `np.concatenate`. Demonstrate how to concatenate them along axis 0 and axis 1.<br/>\n",
    "`x = np.array([[1, 2], [3, 4]])`<br/>\n",
    "`y = np.array([[5, 6], [7, 8]])`<br/>\n",
    "`z = np.array([[9, 10], [11, 12]])`<br/>"
   ]
  },
  {
   "cell_type": "code",
   "execution_count": 88,
   "metadata": {},
   "outputs": [
    {
     "data": {
      "text/plain": [
       "array([[ 1,  2,  3,  4,  5],\n",
       "       [ 6,  7,  8,  9, 10],\n",
       "       [11, 12, 13, 14, 15]])"
      ]
     },
     "execution_count": 88,
     "metadata": {},
     "output_type": "execute_result"
    }
   ],
   "source": [
    "a = np.array([1,2,3,4,5])\n",
    "b = np.array([6,7,8,9,10])\n",
    "c = np.array([11,12,13,14,15])\n",
    "np.vstack((a,b,c))"
   ]
  },
  {
   "cell_type": "code",
   "execution_count": 89,
   "metadata": {},
   "outputs": [
    {
     "data": {
      "text/plain": [
       "array([ 1,  2,  3,  4,  5,  6,  7,  8,  9, 10, 11, 12, 13, 14, 15])"
      ]
     },
     "execution_count": 89,
     "metadata": {},
     "output_type": "execute_result"
    }
   ],
   "source": [
    "a = np.array([1,2,3,4,5])\n",
    "b = np.array([6,7,8,9,10])\n",
    "c = np.array([11,12,13,14,15])\n",
    "np.hstack((a,b,c))"
   ]
  },
  {
   "cell_type": "code",
   "execution_count": 90,
   "metadata": {},
   "outputs": [
    {
     "data": {
      "text/plain": [
       "array([[ 2,  4,  4,  8],\n",
       "       [ 3,  6,  5, 10]])"
      ]
     },
     "execution_count": 90,
     "metadata": {},
     "output_type": "execute_result"
    }
   ],
   "source": [
    "m = np.array([[2, 4], [3, 6]])\n",
    "n = np.array([[4, 8], [5, 10]])\n",
    "np.hstack((m,n))"
   ]
  },
  {
   "cell_type": "code",
   "execution_count": 91,
   "metadata": {},
   "outputs": [
    {
     "data": {
      "text/plain": [
       "array([[11, 12, 13],\n",
       "       [14, 15, 16],\n",
       "       [17, 18, 19]])"
      ]
     },
     "execution_count": 91,
     "metadata": {},
     "output_type": "execute_result"
    }
   ],
   "source": [
    "a = np.array([11, 12, 13])\n",
    "b = np.array([[14, 15, 16], [17, 18, 19]])\n",
    "np.vstack((a,b))"
   ]
  },
  {
   "cell_type": "code",
   "execution_count": 92,
   "metadata": {},
   "outputs": [
    {
     "name": "stdout",
     "output_type": "stream",
     "text": [
      "[[ 1  2]\n",
      " [ 3  4]\n",
      " [ 5  6]\n",
      " [ 7  8]\n",
      " [ 9 10]\n",
      " [11 12]]\n",
      "[[ 1  2  5  6  9 10]\n",
      " [ 3  4  7  8 11 12]]\n"
     ]
    }
   ],
   "source": [
    "x = np.array([[1, 2], [3, 4]])\n",
    "y = np.array([[5, 6], [7, 8]])\n",
    "z = np.array([[9, 10], [11, 12]])\n",
    "print(np.concatenate((x,y,z),axis=0))\n",
    "print(np.concatenate((x,y,z),axis=1))\n"
   ]
  },
  {
   "cell_type": "markdown",
   "metadata": {
    "id": "NCs1VlmHiFli"
   },
   "source": [
    "# Boolean Masking\n",
    "\n",
    "1. Use Boolean masking to filter elements from a 1D array:\n",
    "Write a program to create a 1D array and use Boolean masking to filter out all elements greater than 5.<br/>\n",
    "\n",
    "2. Apply a Boolean mask to a 2D array:\n",
    "Given the 2D array below, create a Boolean mask to select all elements greater than 10 and print the masked elements.<br/>\n",
    "`arr = np.array([[5, 12, 18], [7, 1, 3], [11, 6, 14]])`\n",
    " <br/>\n",
    "3. Create a Boolean mask using a condition on an array:\n",
    "Create a 1D array of integers from 0 to 10. Use a Boolean mask to filter out all even numbers and print the result.<br/>\n",
    "Example:\n",
    "`arr = np.arange(11)`\n",
    "<br/>\n",
    "4. Combine Boolean masks using logical operations:\n",
    "Given the array below, create and combine two Boolean masks:<br/>\n",
    "One mask selects elements greater than 5.\n",
    "The other mask selects elements divisible by 3.\n",
    "Combine the masks using logical AND and print the result.\n",
    "Example:\n",
    "`arr = np.array([1, 3, 6, 9, 12, 15])`\n",
    "<br/>\n",
    "5. Mask elements in a 2D array and replace them:\n",
    "Write a program to replace all elements less than 5 in the 2D array below with 0 using Boolean masking.\n",
    "<br/>\n",
    "6.  Count elements satisfying a condition using Boolean masks:\n",
    "Write a program to count how many elements in the array below are greater than 5.\n",
    "<br/>"
   ]
  },
  {
   "cell_type": "code",
   "execution_count": 93,
   "metadata": {},
   "outputs": [
    {
     "name": "stdout",
     "output_type": "stream",
     "text": [
      "[6 7 8 9]\n"
     ]
    }
   ],
   "source": [
    "arr = np.array([1,2,3,4,5,6,7,8,9,0])\n",
    "print(arr[arr>5])"
   ]
  },
  {
   "cell_type": "code",
   "execution_count": 94,
   "metadata": {
    "id": "kqfIdkmLkUaD"
   },
   "outputs": [
    {
     "name": "stdout",
     "output_type": "stream",
     "text": [
      "[12 18  7 11  6 14]\n"
     ]
    }
   ],
   "source": [
    "arr = np.array([[5, 12, 18], [7, 1, 3], [11, 6, 14]])\n",
    "print(arr[arr>5])"
   ]
  },
  {
   "cell_type": "code",
   "execution_count": 95,
   "metadata": {},
   "outputs": [
    {
     "name": "stdout",
     "output_type": "stream",
     "text": [
      "[ 0  2  4  6  8 10]\n"
     ]
    }
   ],
   "source": [
    "arr = np.arange(11)\n",
    "print(arr[arr%2==0])"
   ]
  },
  {
   "cell_type": "code",
   "execution_count": 96,
   "metadata": {},
   "outputs": [
    {
     "name": "stdout",
     "output_type": "stream",
     "text": [
      "[ 6  9 12 15]\n"
     ]
    }
   ],
   "source": [
    "arr = np.array([1, 3, 6, 9, 12, 15])\n",
    "mask1 = arr>5\n",
    "mask2 = arr%3==0\n",
    "print(arr[mask1 & mask2])"
   ]
  },
  {
   "cell_type": "code",
   "execution_count": 97,
   "metadata": {},
   "outputs": [
    {
     "name": "stdout",
     "output_type": "stream",
     "text": [
      "[[ 5 12 18]\n",
      " [ 7  0  0]\n",
      " [11  6 14]]\n"
     ]
    }
   ],
   "source": [
    "arr = np.array([[5, 12, 18], [7, 1, 3], [11, 6, 14]])\n",
    "arr[arr<5] = 0\n",
    "print(arr)"
   ]
  },
  {
   "cell_type": "code",
   "execution_count": 98,
   "metadata": {},
   "outputs": [
    {
     "name": "stdout",
     "output_type": "stream",
     "text": [
      "4\n"
     ]
    }
   ],
   "source": [
    "arr = np.array([1,2,3,4,5,6,7,8,9,0])\n",
    "print(arr[arr>5].size)"
   ]
  }
 ],
 "metadata": {
  "colab": {
   "provenance": []
  },
  "kernelspec": {
   "display_name": "Python [conda env:base] *",
   "language": "python",
   "name": "conda-base-py"
  },
  "language_info": {
   "codemirror_mode": {
    "name": "ipython",
    "version": 3
   },
   "file_extension": ".py",
   "mimetype": "text/x-python",
   "name": "python",
   "nbconvert_exporter": "python",
   "pygments_lexer": "ipython3",
   "version": "3.12.7"
  }
 },
 "nbformat": 4,
 "nbformat_minor": 4
}
